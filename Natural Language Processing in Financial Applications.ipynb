{
 "cells": [
  {
   "cell_type": "markdown",
   "id": "5d57724e",
   "metadata": {},
   "source": [
    "# Natural Language Processing in Financial Applications\n",
    "\n",
    "## Step 1: Prepare the dataset for analysis"
   ]
  },
  {
   "cell_type": "code",
   "execution_count": 1,
   "id": "ef387432",
   "metadata": {},
   "outputs": [],
   "source": [
    "#Importing libraries\n",
    "\n",
    "import lbsa\n",
    "import pandas as pd\n",
    "import seaborn as sns\n",
    "import matplotlib.pyplot as plt"
   ]
  },
  {
   "cell_type": "code",
   "execution_count": 2,
   "id": "a25c7dd1",
   "metadata": {},
   "outputs": [
    {
     "data": {
      "text/html": [
       "<div>\n",
       "<style scoped>\n",
       "    .dataframe tbody tr th:only-of-type {\n",
       "        vertical-align: middle;\n",
       "    }\n",
       "\n",
       "    .dataframe tbody tr th {\n",
       "        vertical-align: top;\n",
       "    }\n",
       "\n",
       "    .dataframe thead th {\n",
       "        text-align: right;\n",
       "    }\n",
       "</style>\n",
       "<table border=\"1\" class=\"dataframe\">\n",
       "  <thead>\n",
       "    <tr style=\"text-align: right;\">\n",
       "      <th></th>\n",
       "      <th>english</th>\n",
       "      <th>arabic</th>\n",
       "      <th>basque</th>\n",
       "      <th>bengali</th>\n",
       "      <th>catalan</th>\n",
       "      <th>chinese (simplified)</th>\n",
       "      <th>chinese (traditional)</th>\n",
       "      <th>danish</th>\n",
       "      <th>dutch</th>\n",
       "      <th>esperanto</th>\n",
       "      <th>...</th>\n",
       "      <th>yiddish</th>\n",
       "      <th>zulu</th>\n",
       "      <th>anger</th>\n",
       "      <th>anticipation</th>\n",
       "      <th>disgust</th>\n",
       "      <th>fear</th>\n",
       "      <th>joy</th>\n",
       "      <th>sadness</th>\n",
       "      <th>surprise</th>\n",
       "      <th>trust</th>\n",
       "    </tr>\n",
       "  </thead>\n",
       "  <tbody>\n",
       "    <tr>\n",
       "      <th>0</th>\n",
       "      <td>aback</td>\n",
       "      <td>الى الوراء</td>\n",
       "      <td>aback</td>\n",
       "      <td>পশ্চাতে</td>\n",
       "      <td>darrere</td>\n",
       "      <td>吓了一跳</td>\n",
       "      <td>嚇了一跳</td>\n",
       "      <td>overrasket</td>\n",
       "      <td>verrast</td>\n",
       "      <td>surprizita</td>\n",
       "      <td>...</td>\n",
       "      <td>אַבאַק</td>\n",
       "      <td>kwabamangaza</td>\n",
       "      <td>0</td>\n",
       "      <td>0</td>\n",
       "      <td>0</td>\n",
       "      <td>0</td>\n",
       "      <td>0</td>\n",
       "      <td>0</td>\n",
       "      <td>0</td>\n",
       "      <td>0</td>\n",
       "    </tr>\n",
       "    <tr>\n",
       "      <th>1</th>\n",
       "      <td>abacus</td>\n",
       "      <td>طبلية تاج</td>\n",
       "      <td>abako</td>\n",
       "      <td>গণনা-যন্ত্রবিশেষ</td>\n",
       "      <td>àbac</td>\n",
       "      <td>算盘</td>\n",
       "      <td>算盤</td>\n",
       "      <td>abacus</td>\n",
       "      <td>abacus</td>\n",
       "      <td>abako</td>\n",
       "      <td>...</td>\n",
       "      <td>ABACUS</td>\n",
       "      <td>abacus</td>\n",
       "      <td>0</td>\n",
       "      <td>0</td>\n",
       "      <td>0</td>\n",
       "      <td>0</td>\n",
       "      <td>0</td>\n",
       "      <td>0</td>\n",
       "      <td>0</td>\n",
       "      <td>1</td>\n",
       "    </tr>\n",
       "    <tr>\n",
       "      <th>2</th>\n",
       "      <td>abandon</td>\n",
       "      <td>تخلى</td>\n",
       "      <td>alde batera utzi</td>\n",
       "      <td>বর্জিত করা</td>\n",
       "      <td>abandonar</td>\n",
       "      <td>放弃</td>\n",
       "      <td>放棄</td>\n",
       "      <td>opgive</td>\n",
       "      <td>verlaten</td>\n",
       "      <td>forlasos</td>\n",
       "      <td>...</td>\n",
       "      <td>פאַרלאָזן</td>\n",
       "      <td>shiya</td>\n",
       "      <td>0</td>\n",
       "      <td>0</td>\n",
       "      <td>0</td>\n",
       "      <td>1</td>\n",
       "      <td>0</td>\n",
       "      <td>1</td>\n",
       "      <td>0</td>\n",
       "      <td>0</td>\n",
       "    </tr>\n",
       "    <tr>\n",
       "      <th>3</th>\n",
       "      <td>abandoned</td>\n",
       "      <td>مهجور</td>\n",
       "      <td>abandonatu</td>\n",
       "      <td>পরিত্যক্ত</td>\n",
       "      <td>abandonat</td>\n",
       "      <td>弃</td>\n",
       "      <td>棄</td>\n",
       "      <td>forladte</td>\n",
       "      <td>verlaten</td>\n",
       "      <td>forlasita</td>\n",
       "      <td>...</td>\n",
       "      <td>פֿאַרלאָזן</td>\n",
       "      <td>ishiywe</td>\n",
       "      <td>1</td>\n",
       "      <td>0</td>\n",
       "      <td>0</td>\n",
       "      <td>1</td>\n",
       "      <td>0</td>\n",
       "      <td>1</td>\n",
       "      <td>0</td>\n",
       "      <td>0</td>\n",
       "    </tr>\n",
       "    <tr>\n",
       "      <th>4</th>\n",
       "      <td>abandonment</td>\n",
       "      <td>هجر</td>\n",
       "      <td>abandono</td>\n",
       "      <td>বিসর্জন</td>\n",
       "      <td>abandonament</td>\n",
       "      <td>放弃</td>\n",
       "      <td>放棄</td>\n",
       "      <td>opgivelse</td>\n",
       "      <td>verlatenheid</td>\n",
       "      <td>forlasas</td>\n",
       "      <td>...</td>\n",
       "      <td>אַבאַנדאַנמאַנט</td>\n",
       "      <td>Ukuyekwa</td>\n",
       "      <td>1</td>\n",
       "      <td>0</td>\n",
       "      <td>0</td>\n",
       "      <td>1</td>\n",
       "      <td>0</td>\n",
       "      <td>1</td>\n",
       "      <td>1</td>\n",
       "      <td>0</td>\n",
       "    </tr>\n",
       "    <tr>\n",
       "      <th>...</th>\n",
       "      <td>...</td>\n",
       "      <td>...</td>\n",
       "      <td>...</td>\n",
       "      <td>...</td>\n",
       "      <td>...</td>\n",
       "      <td>...</td>\n",
       "      <td>...</td>\n",
       "      <td>...</td>\n",
       "      <td>...</td>\n",
       "      <td>...</td>\n",
       "      <td>...</td>\n",
       "      <td>...</td>\n",
       "      <td>...</td>\n",
       "      <td>...</td>\n",
       "      <td>...</td>\n",
       "      <td>...</td>\n",
       "      <td>...</td>\n",
       "      <td>...</td>\n",
       "      <td>...</td>\n",
       "      <td>...</td>\n",
       "      <td>...</td>\n",
       "    </tr>\n",
       "    <tr>\n",
       "      <th>14177</th>\n",
       "      <td>zone</td>\n",
       "      <td>المنطقة</td>\n",
       "      <td>NaN</td>\n",
       "      <td>মণ্ডল</td>\n",
       "      <td>NaN</td>\n",
       "      <td>区</td>\n",
       "      <td>NaN</td>\n",
       "      <td>NaN</td>\n",
       "      <td>zone</td>\n",
       "      <td>NaN</td>\n",
       "      <td>...</td>\n",
       "      <td>NaN</td>\n",
       "      <td>NaN</td>\n",
       "      <td>0</td>\n",
       "      <td>0</td>\n",
       "      <td>0</td>\n",
       "      <td>0</td>\n",
       "      <td>0</td>\n",
       "      <td>0</td>\n",
       "      <td>0</td>\n",
       "      <td>0</td>\n",
       "    </tr>\n",
       "    <tr>\n",
       "      <th>14178</th>\n",
       "      <td>zoo</td>\n",
       "      <td>حديقة الحيوانات</td>\n",
       "      <td>NaN</td>\n",
       "      <td>চিড়িয়াখানা</td>\n",
       "      <td>NaN</td>\n",
       "      <td>动物园</td>\n",
       "      <td>動物園</td>\n",
       "      <td>NaN</td>\n",
       "      <td>dierentuin</td>\n",
       "      <td>bestoĝardeno</td>\n",
       "      <td>...</td>\n",
       "      <td>NaN</td>\n",
       "      <td>NaN</td>\n",
       "      <td>0</td>\n",
       "      <td>0</td>\n",
       "      <td>0</td>\n",
       "      <td>0</td>\n",
       "      <td>0</td>\n",
       "      <td>0</td>\n",
       "      <td>0</td>\n",
       "      <td>0</td>\n",
       "    </tr>\n",
       "    <tr>\n",
       "      <th>14179</th>\n",
       "      <td>zoological</td>\n",
       "      <td>حيواني</td>\n",
       "      <td>NaN</td>\n",
       "      <td>NaN</td>\n",
       "      <td>NaN</td>\n",
       "      <td>动物学</td>\n",
       "      <td>NaN</td>\n",
       "      <td>NaN</td>\n",
       "      <td>NaN</td>\n",
       "      <td>NaN</td>\n",
       "      <td>...</td>\n",
       "      <td>NaN</td>\n",
       "      <td>NaN</td>\n",
       "      <td>0</td>\n",
       "      <td>0</td>\n",
       "      <td>0</td>\n",
       "      <td>0</td>\n",
       "      <td>0</td>\n",
       "      <td>0</td>\n",
       "      <td>0</td>\n",
       "      <td>0</td>\n",
       "    </tr>\n",
       "    <tr>\n",
       "      <th>14180</th>\n",
       "      <td>zoology</td>\n",
       "      <td>علم الحيوان</td>\n",
       "      <td>NaN</td>\n",
       "      <td>NaN</td>\n",
       "      <td>NaN</td>\n",
       "      <td>动物学</td>\n",
       "      <td>NaN</td>\n",
       "      <td>NaN</td>\n",
       "      <td>NaN</td>\n",
       "      <td>NaN</td>\n",
       "      <td>...</td>\n",
       "      <td>זאָואַלאַדזשי</td>\n",
       "      <td>NaN</td>\n",
       "      <td>0</td>\n",
       "      <td>0</td>\n",
       "      <td>0</td>\n",
       "      <td>0</td>\n",
       "      <td>0</td>\n",
       "      <td>0</td>\n",
       "      <td>0</td>\n",
       "      <td>0</td>\n",
       "    </tr>\n",
       "    <tr>\n",
       "      <th>14181</th>\n",
       "      <td>zoom</td>\n",
       "      <td>زوم</td>\n",
       "      <td>NaN</td>\n",
       "      <td>NaN</td>\n",
       "      <td>NaN</td>\n",
       "      <td>放大</td>\n",
       "      <td>放大</td>\n",
       "      <td>NaN</td>\n",
       "      <td>zoom</td>\n",
       "      <td>NaN</td>\n",
       "      <td>...</td>\n",
       "      <td>NaN</td>\n",
       "      <td>NaN</td>\n",
       "      <td>0</td>\n",
       "      <td>0</td>\n",
       "      <td>0</td>\n",
       "      <td>0</td>\n",
       "      <td>0</td>\n",
       "      <td>0</td>\n",
       "      <td>0</td>\n",
       "      <td>0</td>\n",
       "    </tr>\n",
       "  </tbody>\n",
       "</table>\n",
       "<p>14182 rows × 49 columns</p>\n",
       "</div>"
      ],
      "text/plain": [
       "           english           arabic            basque           bengali  \\\n",
       "0            aback       الى الوراء             aback           পশ্চাতে   \n",
       "1           abacus        طبلية تاج             abako  গণনা-যন্ত্রবিশেষ   \n",
       "2          abandon             تخلى  alde batera utzi        বর্জিত করা   \n",
       "3        abandoned            مهجور        abandonatu         পরিত্যক্ত   \n",
       "4      abandonment              هجر          abandono           বিসর্জন   \n",
       "...            ...              ...               ...               ...   \n",
       "14177         zone          المنطقة               NaN             মণ্ডল   \n",
       "14178          zoo  حديقة الحيوانات               NaN      চিড়িয়াখানা   \n",
       "14179   zoological           حيواني               NaN               NaN   \n",
       "14180      zoology      علم الحيوان               NaN               NaN   \n",
       "14181         zoom              زوم               NaN               NaN   \n",
       "\n",
       "            catalan chinese (simplified) chinese (traditional)      danish  \\\n",
       "0           darrere                 吓了一跳                  嚇了一跳  overrasket   \n",
       "1              àbac                   算盘                    算盤      abacus   \n",
       "2         abandonar                   放弃                    放棄      opgive   \n",
       "3         abandonat                    弃                     棄    forladte   \n",
       "4      abandonament                   放弃                    放棄   opgivelse   \n",
       "...             ...                  ...                   ...         ...   \n",
       "14177           NaN                    区                   NaN         NaN   \n",
       "14178           NaN                  动物园                   動物園         NaN   \n",
       "14179           NaN                  动物学                   NaN         NaN   \n",
       "14180           NaN                  动物学                   NaN         NaN   \n",
       "14181           NaN                   放大                    放大         NaN   \n",
       "\n",
       "              dutch     esperanto  ...          yiddish          zulu anger  \\\n",
       "0           verrast    surprizita  ...           אַבאַק  kwabamangaza     0   \n",
       "1            abacus         abako  ...           ABACUS        abacus     0   \n",
       "2          verlaten      forlasos  ...        פאַרלאָזן         shiya     0   \n",
       "3          verlaten     forlasita  ...       פֿאַרלאָזן       ishiywe     1   \n",
       "4      verlatenheid      forlasas  ...  אַבאַנדאַנמאַנט      Ukuyekwa     1   \n",
       "...             ...           ...  ...              ...           ...   ...   \n",
       "14177          zone           NaN  ...              NaN           NaN     0   \n",
       "14178    dierentuin  bestoĝardeno  ...              NaN           NaN     0   \n",
       "14179           NaN           NaN  ...              NaN           NaN     0   \n",
       "14180           NaN           NaN  ...    זאָואַלאַדזשי           NaN     0   \n",
       "14181          zoom           NaN  ...              NaN           NaN     0   \n",
       "\n",
       "      anticipation disgust fear joy sadness surprise trust  \n",
       "0                0       0    0   0       0        0     0  \n",
       "1                0       0    0   0       0        0     1  \n",
       "2                0       0    1   0       1        0     0  \n",
       "3                0       0    1   0       1        0     0  \n",
       "4                0       0    1   0       1        1     0  \n",
       "...            ...     ...  ...  ..     ...      ...   ...  \n",
       "14177            0       0    0   0       0        0     0  \n",
       "14178            0       0    0   0       0        0     0  \n",
       "14179            0       0    0   0       0        0     0  \n",
       "14180            0       0    0   0       0        0     0  \n",
       "14181            0       0    0   0       0        0     0  \n",
       "\n",
       "[14182 rows x 49 columns]"
      ]
     },
     "execution_count": 2,
     "metadata": {},
     "output_type": "execute_result"
    }
   ],
   "source": [
    "#Lets check how the NRC word-emotion association lexicon looks like\n",
    "\n",
    "sa_lexicon = lbsa.get_lexicon('sa', language='english', source='nrc')\n",
    "sa_lexicon.dataframe"
   ]
  },
  {
   "cell_type": "code",
   "execution_count": 4,
   "id": "83394823",
   "metadata": {},
   "outputs": [],
   "source": [
    "#Importing the dataset\n",
    "\n",
    "train = pd.read_csv('Corona_NLP_train.csv', nrows=2000, encoding = 'latin-1')"
   ]
  },
  {
   "cell_type": "code",
   "execution_count": 26,
   "id": "2f452f27",
   "metadata": {},
   "outputs": [
    {
     "data": {
      "text/html": [
       "<div>\n",
       "<style scoped>\n",
       "    .dataframe tbody tr th:only-of-type {\n",
       "        vertical-align: middle;\n",
       "    }\n",
       "\n",
       "    .dataframe tbody tr th {\n",
       "        vertical-align: top;\n",
       "    }\n",
       "\n",
       "    .dataframe thead th {\n",
       "        text-align: right;\n",
       "    }\n",
       "</style>\n",
       "<table border=\"1\" class=\"dataframe\">\n",
       "  <thead>\n",
       "    <tr style=\"text-align: right;\">\n",
       "      <th></th>\n",
       "      <th>UserName</th>\n",
       "      <th>ScreenName</th>\n",
       "      <th>Location</th>\n",
       "      <th>TweetAt</th>\n",
       "      <th>OriginalTweet</th>\n",
       "      <th>Sentiment</th>\n",
       "    </tr>\n",
       "  </thead>\n",
       "  <tbody>\n",
       "    <tr>\n",
       "      <th>0</th>\n",
       "      <td>3799</td>\n",
       "      <td>48751</td>\n",
       "      <td>London</td>\n",
       "      <td>16-03-2020</td>\n",
       "      <td>@MeNyrbie @Phil_Gahan @Chrisitv https://t.co/i...</td>\n",
       "      <td>Neutral</td>\n",
       "    </tr>\n",
       "    <tr>\n",
       "      <th>1</th>\n",
       "      <td>3800</td>\n",
       "      <td>48752</td>\n",
       "      <td>UK</td>\n",
       "      <td>16-03-2020</td>\n",
       "      <td>advice Talk to your neighbours family to excha...</td>\n",
       "      <td>Positive</td>\n",
       "    </tr>\n",
       "    <tr>\n",
       "      <th>2</th>\n",
       "      <td>3801</td>\n",
       "      <td>48753</td>\n",
       "      <td>Vagabonds</td>\n",
       "      <td>16-03-2020</td>\n",
       "      <td>Coronavirus Australia: Woolworths to give elde...</td>\n",
       "      <td>Positive</td>\n",
       "    </tr>\n",
       "    <tr>\n",
       "      <th>3</th>\n",
       "      <td>3802</td>\n",
       "      <td>48754</td>\n",
       "      <td>NaN</td>\n",
       "      <td>16-03-2020</td>\n",
       "      <td>My food stock is not the only one which is emp...</td>\n",
       "      <td>Positive</td>\n",
       "    </tr>\n",
       "    <tr>\n",
       "      <th>4</th>\n",
       "      <td>3803</td>\n",
       "      <td>48755</td>\n",
       "      <td>NaN</td>\n",
       "      <td>16-03-2020</td>\n",
       "      <td>Me, ready to go at supermarket during the #COV...</td>\n",
       "      <td>Extremely Negative</td>\n",
       "    </tr>\n",
       "  </tbody>\n",
       "</table>\n",
       "</div>"
      ],
      "text/plain": [
       "   UserName  ScreenName   Location     TweetAt  \\\n",
       "0      3799       48751     London  16-03-2020   \n",
       "1      3800       48752         UK  16-03-2020   \n",
       "2      3801       48753  Vagabonds  16-03-2020   \n",
       "3      3802       48754        NaN  16-03-2020   \n",
       "4      3803       48755        NaN  16-03-2020   \n",
       "\n",
       "                                       OriginalTweet           Sentiment  \n",
       "0  @MeNyrbie @Phil_Gahan @Chrisitv https://t.co/i...             Neutral  \n",
       "1  advice Talk to your neighbours family to excha...            Positive  \n",
       "2  Coronavirus Australia: Woolworths to give elde...            Positive  \n",
       "3  My food stock is not the only one which is emp...            Positive  \n",
       "4  Me, ready to go at supermarket during the #COV...  Extremely Negative  "
      ]
     },
     "execution_count": 26,
     "metadata": {},
     "output_type": "execute_result"
    }
   ],
   "source": [
    "train.head()\n"
   ]
  },
  {
   "cell_type": "code",
   "execution_count": 5,
   "id": "08cf8aa5",
   "metadata": {},
   "outputs": [
    {
     "ename": "ValueError",
     "evalue": "Length mismatch: Expected axis has 6 elements, new values have 2 elements",
     "output_type": "error",
     "traceback": [
      "\u001b[0;31m---------------------------------------------------------------------------\u001b[0m",
      "\u001b[0;31mValueError\u001b[0m                                Traceback (most recent call last)",
      "\u001b[0;32m/var/folders/wb/qpvt5bys1lx__0h6jr76k2z00000gn/T/ipykernel_2007/3936800152.py\u001b[0m in \u001b[0;36m<module>\u001b[0;34m\u001b[0m\n\u001b[0;32m----> 1\u001b[0;31m \u001b[0mtrain\u001b[0m\u001b[0;34m.\u001b[0m\u001b[0mcolumns\u001b[0m \u001b[0;34m=\u001b[0m \u001b[0;34m[\u001b[0m\u001b[0;34m'OriginalTweet'\u001b[0m\u001b[0;34m,\u001b[0m\u001b[0;34m'Sentiment'\u001b[0m\u001b[0;34m]\u001b[0m\u001b[0;34m\u001b[0m\u001b[0;34m\u001b[0m\u001b[0m\n\u001b[0m",
      "\u001b[0;32m/opt/anaconda3/envs/dsfb2env/lib/python3.8/site-packages/pandas/core/generic.py\u001b[0m in \u001b[0;36m__setattr__\u001b[0;34m(self, name, value)\u001b[0m\n\u001b[1;32m   5498\u001b[0m         \u001b[0;32mtry\u001b[0m\u001b[0;34m:\u001b[0m\u001b[0;34m\u001b[0m\u001b[0;34m\u001b[0m\u001b[0m\n\u001b[1;32m   5499\u001b[0m             \u001b[0mobject\u001b[0m\u001b[0;34m.\u001b[0m\u001b[0m__getattribute__\u001b[0m\u001b[0;34m(\u001b[0m\u001b[0mself\u001b[0m\u001b[0;34m,\u001b[0m \u001b[0mname\u001b[0m\u001b[0;34m)\u001b[0m\u001b[0;34m\u001b[0m\u001b[0;34m\u001b[0m\u001b[0m\n\u001b[0;32m-> 5500\u001b[0;31m             \u001b[0;32mreturn\u001b[0m \u001b[0mobject\u001b[0m\u001b[0;34m.\u001b[0m\u001b[0m__setattr__\u001b[0m\u001b[0;34m(\u001b[0m\u001b[0mself\u001b[0m\u001b[0;34m,\u001b[0m \u001b[0mname\u001b[0m\u001b[0;34m,\u001b[0m \u001b[0mvalue\u001b[0m\u001b[0;34m)\u001b[0m\u001b[0;34m\u001b[0m\u001b[0;34m\u001b[0m\u001b[0m\n\u001b[0m\u001b[1;32m   5501\u001b[0m         \u001b[0;32mexcept\u001b[0m \u001b[0mAttributeError\u001b[0m\u001b[0;34m:\u001b[0m\u001b[0;34m\u001b[0m\u001b[0;34m\u001b[0m\u001b[0m\n\u001b[1;32m   5502\u001b[0m             \u001b[0;32mpass\u001b[0m\u001b[0;34m\u001b[0m\u001b[0;34m\u001b[0m\u001b[0m\n",
      "\u001b[0;32m/opt/anaconda3/envs/dsfb2env/lib/python3.8/site-packages/pandas/_libs/properties.pyx\u001b[0m in \u001b[0;36mpandas._libs.properties.AxisProperty.__set__\u001b[0;34m()\u001b[0m\n",
      "\u001b[0;32m/opt/anaconda3/envs/dsfb2env/lib/python3.8/site-packages/pandas/core/generic.py\u001b[0m in \u001b[0;36m_set_axis\u001b[0;34m(self, axis, labels)\u001b[0m\n\u001b[1;32m    764\u001b[0m     \u001b[0;32mdef\u001b[0m \u001b[0m_set_axis\u001b[0m\u001b[0;34m(\u001b[0m\u001b[0mself\u001b[0m\u001b[0;34m,\u001b[0m \u001b[0maxis\u001b[0m\u001b[0;34m:\u001b[0m \u001b[0mint\u001b[0m\u001b[0;34m,\u001b[0m \u001b[0mlabels\u001b[0m\u001b[0;34m:\u001b[0m \u001b[0mIndex\u001b[0m\u001b[0;34m)\u001b[0m \u001b[0;34m->\u001b[0m \u001b[0;32mNone\u001b[0m\u001b[0;34m:\u001b[0m\u001b[0;34m\u001b[0m\u001b[0;34m\u001b[0m\u001b[0m\n\u001b[1;32m    765\u001b[0m         \u001b[0mlabels\u001b[0m \u001b[0;34m=\u001b[0m \u001b[0mensure_index\u001b[0m\u001b[0;34m(\u001b[0m\u001b[0mlabels\u001b[0m\u001b[0;34m)\u001b[0m\u001b[0;34m\u001b[0m\u001b[0;34m\u001b[0m\u001b[0m\n\u001b[0;32m--> 766\u001b[0;31m         \u001b[0mself\u001b[0m\u001b[0;34m.\u001b[0m\u001b[0m_mgr\u001b[0m\u001b[0;34m.\u001b[0m\u001b[0mset_axis\u001b[0m\u001b[0;34m(\u001b[0m\u001b[0maxis\u001b[0m\u001b[0;34m,\u001b[0m \u001b[0mlabels\u001b[0m\u001b[0;34m)\u001b[0m\u001b[0;34m\u001b[0m\u001b[0;34m\u001b[0m\u001b[0m\n\u001b[0m\u001b[1;32m    767\u001b[0m         \u001b[0mself\u001b[0m\u001b[0;34m.\u001b[0m\u001b[0m_clear_item_cache\u001b[0m\u001b[0;34m(\u001b[0m\u001b[0;34m)\u001b[0m\u001b[0;34m\u001b[0m\u001b[0;34m\u001b[0m\u001b[0m\n\u001b[1;32m    768\u001b[0m \u001b[0;34m\u001b[0m\u001b[0m\n",
      "\u001b[0;32m/opt/anaconda3/envs/dsfb2env/lib/python3.8/site-packages/pandas/core/internals/managers.py\u001b[0m in \u001b[0;36mset_axis\u001b[0;34m(self, axis, new_labels)\u001b[0m\n\u001b[1;32m    214\u001b[0m     \u001b[0;32mdef\u001b[0m \u001b[0mset_axis\u001b[0m\u001b[0;34m(\u001b[0m\u001b[0mself\u001b[0m\u001b[0;34m,\u001b[0m \u001b[0maxis\u001b[0m\u001b[0;34m:\u001b[0m \u001b[0mint\u001b[0m\u001b[0;34m,\u001b[0m \u001b[0mnew_labels\u001b[0m\u001b[0;34m:\u001b[0m \u001b[0mIndex\u001b[0m\u001b[0;34m)\u001b[0m \u001b[0;34m->\u001b[0m \u001b[0;32mNone\u001b[0m\u001b[0;34m:\u001b[0m\u001b[0;34m\u001b[0m\u001b[0;34m\u001b[0m\u001b[0m\n\u001b[1;32m    215\u001b[0m         \u001b[0;31m# Caller is responsible for ensuring we have an Index object.\u001b[0m\u001b[0;34m\u001b[0m\u001b[0;34m\u001b[0m\u001b[0;34m\u001b[0m\u001b[0m\n\u001b[0;32m--> 216\u001b[0;31m         \u001b[0mself\u001b[0m\u001b[0;34m.\u001b[0m\u001b[0m_validate_set_axis\u001b[0m\u001b[0;34m(\u001b[0m\u001b[0maxis\u001b[0m\u001b[0;34m,\u001b[0m \u001b[0mnew_labels\u001b[0m\u001b[0;34m)\u001b[0m\u001b[0;34m\u001b[0m\u001b[0;34m\u001b[0m\u001b[0m\n\u001b[0m\u001b[1;32m    217\u001b[0m         \u001b[0mself\u001b[0m\u001b[0;34m.\u001b[0m\u001b[0maxes\u001b[0m\u001b[0;34m[\u001b[0m\u001b[0maxis\u001b[0m\u001b[0;34m]\u001b[0m \u001b[0;34m=\u001b[0m \u001b[0mnew_labels\u001b[0m\u001b[0;34m\u001b[0m\u001b[0;34m\u001b[0m\u001b[0m\n\u001b[1;32m    218\u001b[0m \u001b[0;34m\u001b[0m\u001b[0m\n",
      "\u001b[0;32m/opt/anaconda3/envs/dsfb2env/lib/python3.8/site-packages/pandas/core/internals/base.py\u001b[0m in \u001b[0;36m_validate_set_axis\u001b[0;34m(self, axis, new_labels)\u001b[0m\n\u001b[1;32m     55\u001b[0m \u001b[0;34m\u001b[0m\u001b[0m\n\u001b[1;32m     56\u001b[0m         \u001b[0;32melif\u001b[0m \u001b[0mnew_len\u001b[0m \u001b[0;34m!=\u001b[0m \u001b[0mold_len\u001b[0m\u001b[0;34m:\u001b[0m\u001b[0;34m\u001b[0m\u001b[0;34m\u001b[0m\u001b[0m\n\u001b[0;32m---> 57\u001b[0;31m             raise ValueError(\n\u001b[0m\u001b[1;32m     58\u001b[0m                 \u001b[0;34mf\"Length mismatch: Expected axis has {old_len} elements, new \"\u001b[0m\u001b[0;34m\u001b[0m\u001b[0;34m\u001b[0m\u001b[0m\n\u001b[1;32m     59\u001b[0m                 \u001b[0;34mf\"values have {new_len} elements\"\u001b[0m\u001b[0;34m\u001b[0m\u001b[0;34m\u001b[0m\u001b[0m\n",
      "\u001b[0;31mValueError\u001b[0m: Length mismatch: Expected axis has 6 elements, new values have 2 elements"
     ]
    }
   ],
   "source": [
    "train.columns = ['OriginalTweet','Sentiment']"
   ]
  },
  {
   "cell_type": "markdown",
   "id": "5a4ee65f",
   "metadata": {},
   "source": [
    "## Step 2: Extract lexicon based features"
   ]
  },
  {
   "cell_type": "code",
   "execution_count": 6,
   "id": "e975ea07",
   "metadata": {},
   "outputs": [],
   "source": [
    "afinn_lexicon = lbsa.get_lexicon('opinion', language='english', source='afinn')\n",
    "nrc_lexicon = lbsa.get_lexicon('opinion', language='english', source='nrc')\n",
    "nrc_sa_lexicon = lbsa.get_lexicon('sa', language='english', source='nrc')\n",
    "mpqa_lexicon = lbsa.get_lexicon('opinion', language='english', source='mpqa')"
   ]
  },
  {
   "cell_type": "code",
   "execution_count": 7,
   "id": "ea7b226d",
   "metadata": {},
   "outputs": [],
   "source": [
    "sa_extractor = lbsa.FeatureExtractor(afinn_lexicon, nrc_lexicon, nrc_sa_lexicon, mpqa_lexicon)\n",
    "feat_dat = pd.DataFrame(sa_extractor.process(train['OriginalTweet']),columns=sa_extractor.feature_names)"
   ]
  },
  {
   "cell_type": "code",
   "execution_count": 8,
   "id": "55b8d8cd",
   "metadata": {},
   "outputs": [
    {
     "data": {
      "text/html": [
       "<div>\n",
       "<style scoped>\n",
       "    .dataframe tbody tr th:only-of-type {\n",
       "        vertical-align: middle;\n",
       "    }\n",
       "\n",
       "    .dataframe tbody tr th {\n",
       "        vertical-align: top;\n",
       "    }\n",
       "\n",
       "    .dataframe thead th {\n",
       "        text-align: right;\n",
       "    }\n",
       "</style>\n",
       "<table border=\"1\" class=\"dataframe\">\n",
       "  <thead>\n",
       "    <tr style=\"text-align: right;\">\n",
       "      <th></th>\n",
       "      <th>afinn_positive</th>\n",
       "      <th>afinn_negative</th>\n",
       "      <th>nrc_positive</th>\n",
       "      <th>nrc_negative</th>\n",
       "      <th>nrc_anger</th>\n",
       "      <th>nrc_anticipation</th>\n",
       "      <th>nrc_disgust</th>\n",
       "      <th>nrc_fear</th>\n",
       "      <th>nrc_joy</th>\n",
       "      <th>nrc_sadness</th>\n",
       "      <th>nrc_surprise</th>\n",
       "      <th>nrc_trust</th>\n",
       "      <th>mpqa_positive</th>\n",
       "      <th>mpqa_negative</th>\n",
       "      <th>mpqa_strong_subjectivty</th>\n",
       "    </tr>\n",
       "  </thead>\n",
       "  <tbody>\n",
       "    <tr>\n",
       "      <th>0</th>\n",
       "      <td>0.0</td>\n",
       "      <td>0.0</td>\n",
       "      <td>0.0</td>\n",
       "      <td>0.0</td>\n",
       "      <td>0.0</td>\n",
       "      <td>0.0</td>\n",
       "      <td>0.0</td>\n",
       "      <td>0.0</td>\n",
       "      <td>0.0</td>\n",
       "      <td>0.0</td>\n",
       "      <td>0.0</td>\n",
       "      <td>0.0</td>\n",
       "      <td>0.0</td>\n",
       "      <td>0.0</td>\n",
       "      <td>0.0</td>\n",
       "    </tr>\n",
       "    <tr>\n",
       "      <th>1</th>\n",
       "      <td>1.0</td>\n",
       "      <td>0.0</td>\n",
       "      <td>9.0</td>\n",
       "      <td>0.0</td>\n",
       "      <td>0.0</td>\n",
       "      <td>1.0</td>\n",
       "      <td>0.0</td>\n",
       "      <td>0.0</td>\n",
       "      <td>2.0</td>\n",
       "      <td>0.0</td>\n",
       "      <td>1.0</td>\n",
       "      <td>5.0</td>\n",
       "      <td>2.0</td>\n",
       "      <td>0.0</td>\n",
       "      <td>0.0</td>\n",
       "    </tr>\n",
       "    <tr>\n",
       "      <th>2</th>\n",
       "      <td>2.0</td>\n",
       "      <td>0.0</td>\n",
       "      <td>1.0</td>\n",
       "      <td>1.0</td>\n",
       "      <td>0.0</td>\n",
       "      <td>1.0</td>\n",
       "      <td>0.0</td>\n",
       "      <td>1.0</td>\n",
       "      <td>1.0</td>\n",
       "      <td>1.0</td>\n",
       "      <td>1.0</td>\n",
       "      <td>1.0</td>\n",
       "      <td>1.0</td>\n",
       "      <td>2.0</td>\n",
       "      <td>1.0</td>\n",
       "    </tr>\n",
       "    <tr>\n",
       "      <th>3</th>\n",
       "      <td>4.0</td>\n",
       "      <td>4.0</td>\n",
       "      <td>5.0</td>\n",
       "      <td>2.0</td>\n",
       "      <td>1.0</td>\n",
       "      <td>0.0</td>\n",
       "      <td>0.0</td>\n",
       "      <td>2.0</td>\n",
       "      <td>3.0</td>\n",
       "      <td>1.0</td>\n",
       "      <td>0.0</td>\n",
       "      <td>4.0</td>\n",
       "      <td>4.0</td>\n",
       "      <td>2.0</td>\n",
       "      <td>4.0</td>\n",
       "    </tr>\n",
       "    <tr>\n",
       "      <th>4</th>\n",
       "      <td>1.0</td>\n",
       "      <td>6.0</td>\n",
       "      <td>2.0</td>\n",
       "      <td>3.0</td>\n",
       "      <td>2.0</td>\n",
       "      <td>1.0</td>\n",
       "      <td>0.0</td>\n",
       "      <td>3.0</td>\n",
       "      <td>1.0</td>\n",
       "      <td>2.0</td>\n",
       "      <td>0.0</td>\n",
       "      <td>2.0</td>\n",
       "      <td>2.0</td>\n",
       "      <td>6.0</td>\n",
       "      <td>4.0</td>\n",
       "    </tr>\n",
       "    <tr>\n",
       "      <th>...</th>\n",
       "      <td>...</td>\n",
       "      <td>...</td>\n",
       "      <td>...</td>\n",
       "      <td>...</td>\n",
       "      <td>...</td>\n",
       "      <td>...</td>\n",
       "      <td>...</td>\n",
       "      <td>...</td>\n",
       "      <td>...</td>\n",
       "      <td>...</td>\n",
       "      <td>...</td>\n",
       "      <td>...</td>\n",
       "      <td>...</td>\n",
       "      <td>...</td>\n",
       "      <td>...</td>\n",
       "    </tr>\n",
       "    <tr>\n",
       "      <th>1995</th>\n",
       "      <td>0.0</td>\n",
       "      <td>0.0</td>\n",
       "      <td>1.0</td>\n",
       "      <td>0.0</td>\n",
       "      <td>0.0</td>\n",
       "      <td>1.0</td>\n",
       "      <td>0.0</td>\n",
       "      <td>0.0</td>\n",
       "      <td>0.0</td>\n",
       "      <td>0.0</td>\n",
       "      <td>0.0</td>\n",
       "      <td>0.0</td>\n",
       "      <td>1.0</td>\n",
       "      <td>0.0</td>\n",
       "      <td>0.0</td>\n",
       "    </tr>\n",
       "    <tr>\n",
       "      <th>1996</th>\n",
       "      <td>1.0</td>\n",
       "      <td>5.0</td>\n",
       "      <td>3.0</td>\n",
       "      <td>3.0</td>\n",
       "      <td>1.0</td>\n",
       "      <td>2.0</td>\n",
       "      <td>0.0</td>\n",
       "      <td>2.0</td>\n",
       "      <td>2.0</td>\n",
       "      <td>1.0</td>\n",
       "      <td>1.0</td>\n",
       "      <td>2.0</td>\n",
       "      <td>2.0</td>\n",
       "      <td>2.0</td>\n",
       "      <td>2.0</td>\n",
       "    </tr>\n",
       "    <tr>\n",
       "      <th>1997</th>\n",
       "      <td>0.0</td>\n",
       "      <td>0.0</td>\n",
       "      <td>2.0</td>\n",
       "      <td>0.0</td>\n",
       "      <td>0.0</td>\n",
       "      <td>2.0</td>\n",
       "      <td>0.0</td>\n",
       "      <td>0.0</td>\n",
       "      <td>1.0</td>\n",
       "      <td>0.0</td>\n",
       "      <td>0.0</td>\n",
       "      <td>1.0</td>\n",
       "      <td>0.0</td>\n",
       "      <td>0.0</td>\n",
       "      <td>0.0</td>\n",
       "    </tr>\n",
       "    <tr>\n",
       "      <th>1998</th>\n",
       "      <td>0.0</td>\n",
       "      <td>4.0</td>\n",
       "      <td>3.0</td>\n",
       "      <td>3.0</td>\n",
       "      <td>0.0</td>\n",
       "      <td>1.0</td>\n",
       "      <td>1.0</td>\n",
       "      <td>1.0</td>\n",
       "      <td>2.0</td>\n",
       "      <td>0.0</td>\n",
       "      <td>1.0</td>\n",
       "      <td>3.0</td>\n",
       "      <td>0.0</td>\n",
       "      <td>3.0</td>\n",
       "      <td>2.0</td>\n",
       "    </tr>\n",
       "    <tr>\n",
       "      <th>1999</th>\n",
       "      <td>0.0</td>\n",
       "      <td>2.0</td>\n",
       "      <td>1.0</td>\n",
       "      <td>1.0</td>\n",
       "      <td>1.0</td>\n",
       "      <td>2.0</td>\n",
       "      <td>0.0</td>\n",
       "      <td>1.0</td>\n",
       "      <td>1.0</td>\n",
       "      <td>1.0</td>\n",
       "      <td>1.0</td>\n",
       "      <td>1.0</td>\n",
       "      <td>2.0</td>\n",
       "      <td>1.0</td>\n",
       "      <td>2.0</td>\n",
       "    </tr>\n",
       "  </tbody>\n",
       "</table>\n",
       "<p>2000 rows × 15 columns</p>\n",
       "</div>"
      ],
      "text/plain": [
       "      afinn_positive  afinn_negative  nrc_positive  nrc_negative  nrc_anger  \\\n",
       "0                0.0             0.0           0.0           0.0        0.0   \n",
       "1                1.0             0.0           9.0           0.0        0.0   \n",
       "2                2.0             0.0           1.0           1.0        0.0   \n",
       "3                4.0             4.0           5.0           2.0        1.0   \n",
       "4                1.0             6.0           2.0           3.0        2.0   \n",
       "...              ...             ...           ...           ...        ...   \n",
       "1995             0.0             0.0           1.0           0.0        0.0   \n",
       "1996             1.0             5.0           3.0           3.0        1.0   \n",
       "1997             0.0             0.0           2.0           0.0        0.0   \n",
       "1998             0.0             4.0           3.0           3.0        0.0   \n",
       "1999             0.0             2.0           1.0           1.0        1.0   \n",
       "\n",
       "      nrc_anticipation  nrc_disgust  nrc_fear  nrc_joy  nrc_sadness  \\\n",
       "0                  0.0          0.0       0.0      0.0          0.0   \n",
       "1                  1.0          0.0       0.0      2.0          0.0   \n",
       "2                  1.0          0.0       1.0      1.0          1.0   \n",
       "3                  0.0          0.0       2.0      3.0          1.0   \n",
       "4                  1.0          0.0       3.0      1.0          2.0   \n",
       "...                ...          ...       ...      ...          ...   \n",
       "1995               1.0          0.0       0.0      0.0          0.0   \n",
       "1996               2.0          0.0       2.0      2.0          1.0   \n",
       "1997               2.0          0.0       0.0      1.0          0.0   \n",
       "1998               1.0          1.0       1.0      2.0          0.0   \n",
       "1999               2.0          0.0       1.0      1.0          1.0   \n",
       "\n",
       "      nrc_surprise  nrc_trust  mpqa_positive  mpqa_negative  \\\n",
       "0              0.0        0.0            0.0            0.0   \n",
       "1              1.0        5.0            2.0            0.0   \n",
       "2              1.0        1.0            1.0            2.0   \n",
       "3              0.0        4.0            4.0            2.0   \n",
       "4              0.0        2.0            2.0            6.0   \n",
       "...            ...        ...            ...            ...   \n",
       "1995           0.0        0.0            1.0            0.0   \n",
       "1996           1.0        2.0            2.0            2.0   \n",
       "1997           0.0        1.0            0.0            0.0   \n",
       "1998           1.0        3.0            0.0            3.0   \n",
       "1999           1.0        1.0            2.0            1.0   \n",
       "\n",
       "      mpqa_strong_subjectivty  \n",
       "0                         0.0  \n",
       "1                         0.0  \n",
       "2                         1.0  \n",
       "3                         4.0  \n",
       "4                         4.0  \n",
       "...                       ...  \n",
       "1995                      0.0  \n",
       "1996                      2.0  \n",
       "1997                      0.0  \n",
       "1998                      2.0  \n",
       "1999                      2.0  \n",
       "\n",
       "[2000 rows x 15 columns]"
      ]
     },
     "execution_count": 8,
     "metadata": {},
     "output_type": "execute_result"
    }
   ],
   "source": [
    "feat_dat"
   ]
  },
  {
   "cell_type": "code",
   "execution_count": 10,
   "id": "2330a6f3",
   "metadata": {},
   "outputs": [
    {
     "name": "stdout",
     "output_type": "stream",
     "text": [
      "Descriptive stats for afinn_positive\n",
      "------------------------------------\n",
      "                    count      mean       std  min  25%  50%  75%   max\n",
      "Sentiment                                                              \n",
      "Extremely Negative  306.0  0.862745  1.350453  0.0  0.0  0.0  2.0   7.0\n",
      "Extremely Positive  290.0  4.465517  2.565512  0.0  3.0  4.0  6.0  16.0\n",
      "Negative            513.0  0.957115  1.381417  0.0  0.0  0.0  2.0   7.0\n",
      "Neutral             356.0  0.238764  0.886050  0.0  0.0  0.0  0.0  11.0\n",
      "Positive            535.0  2.042991  1.680473  0.0  1.0  2.0  3.0  10.0\n"
     ]
    },
    {
     "name": "stderr",
     "output_type": "stream",
     "text": [
      "/opt/anaconda3/envs/dsfb2env/lib/python3.8/site-packages/seaborn/distributions.py:2619: FutureWarning: `distplot` is a deprecated function and will be removed in a future version. Please adapt your code to use either `displot` (a figure-level function with similar flexibility) or `histplot` (an axes-level function for histograms).\n",
      "  warnings.warn(msg, FutureWarning)\n"
     ]
    },
    {
     "data": {
      "image/png": "[encoded data removed]",
      "text/plain": [
       "<Figure size 1800x360 with 5 Axes>"
      ]
     },
     "metadata": {
      "needs_background": "light"
     },
     "output_type": "display_data"
    },
    {
     "name": "stdout",
     "output_type": "stream",
     "text": [
      "Descriptive stats for afinn_negative\n",
      "------------------------------------\n",
      "                    count      mean       std  min  25%  50%  75%   max\n",
      "Sentiment                                                              \n",
      "Extremely Negative  306.0  6.581699  3.184212  0.0  4.0  6.0  8.0  19.0\n",
      "Extremely Positive  290.0  1.003448  1.592583  0.0  0.0  0.0  2.0   9.0\n",
      "Negative            513.0  2.961014  2.487948  0.0  1.0  3.0  4.0  31.0\n",
      "Neutral             356.0  0.373596  1.003251  0.0  0.0  0.0  0.0   7.0\n",
      "Positive            535.0  1.263551  1.651148  0.0  0.0  1.0  2.0  11.0\n"
     ]
    },
    {
     "name": "stderr",
     "output_type": "stream",
     "text": [
      "/opt/anaconda3/envs/dsfb2env/lib/python3.8/site-packages/seaborn/distributions.py:2619: FutureWarning: `distplot` is a deprecated function and will be removed in a future version. Please adapt your code to use either `displot` (a figure-level function with similar flexibility) or `histplot` (an axes-level function for histograms).\n",
      "  warnings.warn(msg, FutureWarning)\n"
     ]
    },
    {
     "data": {
      "image/png": "[encoded data removed]",
      "text/plain": [
       "<Figure size 1800x360 with 5 Axes>"
      ]
     },
     "metadata": {
      "needs_background": "light"
     },
     "output_type": "display_data"
    },
    {
     "name": "stdout",
     "output_type": "stream",
     "text": [
      "Descriptive stats for nrc_positive\n",
      "----------------------------------\n",
      "                    count      mean       std  min  25%  50%  75%   max\n",
      "Sentiment                                                              \n",
      "Extremely Negative  306.0  1.986928  1.432581  0.0  1.0  2.0  3.0   7.0\n",
      "Extremely Positive  290.0  2.962069  1.725629  0.0  2.0  3.0  4.0   9.0\n",
      "Negative            513.0  1.904483  1.445845  0.0  1.0  2.0  3.0   8.0\n",
      "Neutral             356.0  1.286517  1.182948  0.0  0.0  1.0  2.0   7.0\n",
      "Positive            535.0  2.119626  1.517898  0.0  1.0  2.0  3.0  10.0\n"
     ]
    },
    {
     "name": "stderr",
     "output_type": "stream",
     "text": [
      "/opt/anaconda3/envs/dsfb2env/lib/python3.8/site-packages/seaborn/distributions.py:2619: FutureWarning: `distplot` is a deprecated function and will be removed in a future version. Please adapt your code to use either `displot` (a figure-level function with similar flexibility) or `histplot` (an axes-level function for histograms).\n",
      "  warnings.warn(msg, FutureWarning)\n"
     ]
    },
    {
     "data": {
      "image/png": "[encoded data removed]",
      "text/plain": [
       "<Figure size 1800x360 with 5 Axes>"
      ]
     },
     "metadata": {
      "needs_background": "light"
     },
     "output_type": "display_data"
    },
    {
     "name": "stdout",
     "output_type": "stream",
     "text": [
      "Descriptive stats for nrc_negative\n",
      "----------------------------------\n",
      "                    count      mean       std  min  25%  50%   75%  max\n",
      "Sentiment                                                              \n",
      "Extremely Negative  306.0  2.637255  1.465153  0.0  2.0  3.0  3.75  7.0\n",
      "Extremely Positive  290.0  0.858621  1.060788  0.0  0.0  1.0  1.00  6.0\n",
      "Negative            513.0  1.452242  1.158427  0.0  1.0  1.0  2.00  8.0\n",
      "Neutral             356.0  0.505618  0.799628  0.0  0.0  0.0  1.00  4.0\n",
      "Positive            535.0  0.887850  1.036118  0.0  0.0  1.0  1.00  6.0\n"
     ]
    },
    {
     "name": "stderr",
     "output_type": "stream",
     "text": [
      "/opt/anaconda3/envs/dsfb2env/lib/python3.8/site-packages/seaborn/distributions.py:2619: FutureWarning: `distplot` is a deprecated function and will be removed in a future version. Please adapt your code to use either `displot` (a figure-level function with similar flexibility) or `histplot` (an axes-level function for histograms).\n",
      "  warnings.warn(msg, FutureWarning)\n"
     ]
    },
    {
     "data": {
      "image/png": "[encoded data removed]",
      "text/plain": [
       "<Figure size 1800x360 with 5 Axes>"
      ]
     },
     "metadata": {
      "needs_background": "light"
     },
     "output_type": "display_data"
    },
    {
     "name": "stdout",
     "output_type": "stream",
     "text": [
      "Descriptive stats for nrc_anger\n",
      "-------------------------------\n",
      "                    count      mean       std  min  25%  50%  75%  max\n",
      "Sentiment                                                             \n",
      "Extremely Negative  306.0  0.947712  0.980404  0.0  0.0  1.0  2.0  4.0\n",
      "Extremely Positive  290.0  0.213793  0.465951  0.0  0.0  0.0  0.0  3.0\n",
      "Negative            513.0  0.499025  0.739839  0.0  0.0  0.0  1.0  5.0\n",
      "Neutral             356.0  0.120787  0.389316  0.0  0.0  0.0  0.0  4.0\n",
      "Positive            535.0  0.246729  0.525442  0.0  0.0  0.0  0.0  3.0\n"
     ]
    },
    {
     "name": "stderr",
     "output_type": "stream",
     "text": [
      "/opt/anaconda3/envs/dsfb2env/lib/python3.8/site-packages/seaborn/distributions.py:2619: FutureWarning: `distplot` is a deprecated function and will be removed in a future version. Please adapt your code to use either `displot` (a figure-level function with similar flexibility) or `histplot` (an axes-level function for histograms).\n",
      "  warnings.warn(msg, FutureWarning)\n"
     ]
    },
    {
     "data": {
      "image/png": "[encoded data removed]",
      "text/plain": [
       "<Figure size 1800x360 with 5 Axes>"
      ]
     },
     "metadata": {
      "needs_background": "light"
     },
     "output_type": "display_data"
    },
    {
     "name": "stdout",
     "output_type": "stream",
     "text": [
      "Descriptive stats for nrc_anticipation\n",
      "--------------------------------------\n",
      "                    count      mean       std  min   25%  50%  75%  max\n",
      "Sentiment                                                              \n",
      "Extremely Negative  306.0  0.908497  1.013738  0.0  0.00  1.0  1.0  6.0\n",
      "Extremely Positive  290.0  1.351724  1.149882  0.0  0.25  1.0  2.0  5.0\n",
      "Negative            513.0  1.005848  1.068898  0.0  0.00  1.0  2.0  5.0\n",
      "Neutral             356.0  0.823034  0.862115  0.0  0.00  1.0  1.0  5.0\n",
      "Positive            535.0  1.097196  1.095570  0.0  0.00  1.0  2.0  6.0\n"
     ]
    },
    {
     "name": "stderr",
     "output_type": "stream",
     "text": [
      "/opt/anaconda3/envs/dsfb2env/lib/python3.8/site-packages/seaborn/distributions.py:2619: FutureWarning: `distplot` is a deprecated function and will be removed in a future version. Please adapt your code to use either `displot` (a figure-level function with similar flexibility) or `histplot` (an axes-level function for histograms).\n",
      "  warnings.warn(msg, FutureWarning)\n"
     ]
    },
    {
     "data": {
      "image/png": "[encoded data removed]",
      "text/plain": [
       "<Figure size 1800x360 with 5 Axes>"
      ]
     },
     "metadata": {
      "needs_background": "light"
     },
     "output_type": "display_data"
    },
    {
     "name": "stdout",
     "output_type": "stream",
     "text": [
      "Descriptive stats for nrc_disgust\n",
      "---------------------------------\n",
      "                    count      mean       std  min  25%  50%  75%  max\n",
      "Sentiment                                                             \n",
      "Extremely Negative  306.0  0.666667  0.849301  0.0  0.0  0.0  1.0  4.0\n",
      "Extremely Positive  290.0  0.155172  0.372113  0.0  0.0  0.0  0.0  2.0\n",
      "Negative            513.0  0.317739  0.574879  0.0  0.0  0.0  1.0  3.0\n",
      "Neutral             356.0  0.112360  0.341932  0.0  0.0  0.0  0.0  2.0\n",
      "Positive            535.0  0.142056  0.399447  0.0  0.0  0.0  0.0  2.0\n"
     ]
    },
    {
     "name": "stderr",
     "output_type": "stream",
     "text": [
      "/opt/anaconda3/envs/dsfb2env/lib/python3.8/site-packages/seaborn/distributions.py:2619: FutureWarning: `distplot` is a deprecated function and will be removed in a future version. Please adapt your code to use either `displot` (a figure-level function with similar flexibility) or `histplot` (an axes-level function for histograms).\n",
      "  warnings.warn(msg, FutureWarning)\n"
     ]
    },
    {
     "data": {
      "image/png": "[encoded data removed]",
      "text/plain": [
       "<Figure size 1800x360 with 5 Axes>"
      ]
     },
     "metadata": {
      "needs_background": "light"
     },
     "output_type": "display_data"
    },
    {
     "name": "stdout",
     "output_type": "stream",
     "text": [
      "Descriptive stats for nrc_fear\n",
      "------------------------------\n",
      "                    count      mean       std  min  25%  50%  75%  max\n",
      "Sentiment                                                             \n",
      "Extremely Negative  306.0  1.663399  1.241799  0.0  1.0  2.0  2.0  6.0\n",
      "Extremely Positive  290.0  0.579310  0.816516  0.0  0.0  0.0  1.0  5.0\n",
      "Negative            513.0  0.861598  0.949068  0.0  0.0  1.0  1.0  6.0\n",
      "Neutral             356.0  0.339888  0.627702  0.0  0.0  0.0  1.0  3.0\n",
      "Positive            535.0  0.568224  0.840523  0.0  0.0  0.0  1.0  5.0\n"
     ]
    },
    {
     "name": "stderr",
     "output_type": "stream",
     "text": [
      "/opt/anaconda3/envs/dsfb2env/lib/python3.8/site-packages/seaborn/distributions.py:2619: FutureWarning: `distplot` is a deprecated function and will be removed in a future version. Please adapt your code to use either `displot` (a figure-level function with similar flexibility) or `histplot` (an axes-level function for histograms).\n",
      "  warnings.warn(msg, FutureWarning)\n"
     ]
    },
    {
     "data": {
      "image/png": "[encoded data removed]",
      "text/plain": [
       "<Figure size 1800x360 with 5 Axes>"
      ]
     },
     "metadata": {
      "needs_background": "light"
     },
     "output_type": "display_data"
    },
    {
     "name": "stdout",
     "output_type": "stream",
     "text": [
      "Descriptive stats for nrc_joy\n",
      "-----------------------------\n",
      "                    count      mean       std  min  25%  50%  75%  max\n",
      "Sentiment                                                             \n",
      "Extremely Negative  306.0  0.833333  0.842518  0.0  0.0  1.0  1.0  3.0\n",
      "Extremely Positive  290.0  1.186207  1.042264  0.0  0.0  1.0  2.0  5.0\n",
      "Negative            513.0  0.695906  0.859871  0.0  0.0  1.0  1.0  6.0\n",
      "Neutral             356.0  0.435393  0.695081  0.0  0.0  0.0  1.0  4.0\n",
      "Positive            535.0  0.831776  0.870726  0.0  0.0  1.0  1.0  5.0\n"
     ]
    },
    {
     "name": "stderr",
     "output_type": "stream",
     "text": [
      "/opt/anaconda3/envs/dsfb2env/lib/python3.8/site-packages/seaborn/distributions.py:2619: FutureWarning: `distplot` is a deprecated function and will be removed in a future version. Please adapt your code to use either `displot` (a figure-level function with similar flexibility) or `histplot` (an axes-level function for histograms).\n",
      "  warnings.warn(msg, FutureWarning)\n"
     ]
    },
    {
     "data": {
      "image/png": "[encoded data removed]",
      "text/plain": [
       "<Figure size 1800x360 with 5 Axes>"
      ]
     },
     "metadata": {
      "needs_background": "light"
     },
     "output_type": "display_data"
    },
    {
     "name": "stdout",
     "output_type": "stream",
     "text": [
      "Descriptive stats for nrc_sadness\n",
      "---------------------------------\n",
      "                    count      mean       std  min  25%  50%  75%  max\n",
      "Sentiment                                                             \n",
      "Extremely Negative  306.0  0.947712  0.977054  0.0  0.0  1.0  2.0  6.0\n",
      "Extremely Positive  290.0  0.358621  0.613300  0.0  0.0  0.0  1.0  3.0\n",
      "Negative            513.0  0.547758  0.796820  0.0  0.0  0.0  1.0  4.0\n",
      "Neutral             356.0  0.210674  0.506853  0.0  0.0  0.0  0.0  4.0\n",
      "Positive            535.0  0.370093  0.660158  0.0  0.0  0.0  1.0  4.0\n"
     ]
    },
    {
     "name": "stderr",
     "output_type": "stream",
     "text": [
      "/opt/anaconda3/envs/dsfb2env/lib/python3.8/site-packages/seaborn/distributions.py:2619: FutureWarning: `distplot` is a deprecated function and will be removed in a future version. Please adapt your code to use either `displot` (a figure-level function with similar flexibility) or `histplot` (an axes-level function for histograms).\n",
      "  warnings.warn(msg, FutureWarning)\n"
     ]
    },
    {
     "data": {
      "image/png": "[encoded data removed]",
      "text/plain": [
       "<Figure size 1800x360 with 5 Axes>"
      ]
     },
     "metadata": {
      "needs_background": "light"
     },
     "output_type": "display_data"
    },
    {
     "name": "stdout",
     "output_type": "stream",
     "text": [
      "Descriptive stats for nrc_surprise\n",
      "----------------------------------\n",
      "                    count      mean       std  min  25%  50%  75%  max\n",
      "Sentiment                                                             \n",
      "Extremely Negative  306.0  0.385621  0.702447  0.0  0.0  0.0  1.0  4.0\n",
      "Extremely Positive  290.0  0.479310  0.691960  0.0  0.0  0.0  1.0  4.0\n",
      "Negative            513.0  0.333333  0.586302  0.0  0.0  0.0  1.0  4.0\n",
      "Neutral             356.0  0.283708  0.504474  0.0  0.0  0.0  1.0  2.0\n",
      "Positive            535.0  0.411215  0.652757  0.0  0.0  0.0  1.0  4.0\n"
     ]
    },
    {
     "name": "stderr",
     "output_type": "stream",
     "text": [
      "/opt/anaconda3/envs/dsfb2env/lib/python3.8/site-packages/seaborn/distributions.py:2619: FutureWarning: `distplot` is a deprecated function and will be removed in a future version. Please adapt your code to use either `displot` (a figure-level function with similar flexibility) or `histplot` (an axes-level function for histograms).\n",
      "  warnings.warn(msg, FutureWarning)\n"
     ]
    },
    {
     "data": {
      "image/png": "[encoded data removed]",
      "text/plain": [
       "<Figure size 1800x360 with 5 Axes>"
      ]
     },
     "metadata": {
      "needs_background": "light"
     },
     "output_type": "display_data"
    },
    {
     "name": "stdout",
     "output_type": "stream",
     "text": [
      "Descriptive stats for nrc_trust\n",
      "-------------------------------\n",
      "                    count      mean       std  min  25%  50%  75%  max\n",
      "Sentiment                                                             \n",
      "Extremely Negative  306.0  1.212418  1.106157  0.0  0.0  1.0  2.0  5.0\n",
      "Extremely Positive  290.0  1.589655  1.304993  0.0  1.0  1.0  2.0  8.0\n",
      "Negative            513.0  1.146199  1.185883  0.0  0.0  1.0  2.0  8.0\n",
      "Neutral             356.0  0.716292  0.961726  0.0  0.0  0.0  1.0  4.0\n",
      "Positive            535.0  1.198131  1.064404  0.0  0.0  1.0  2.0  7.0\n"
     ]
    },
    {
     "name": "stderr",
     "output_type": "stream",
     "text": [
      "/opt/anaconda3/envs/dsfb2env/lib/python3.8/site-packages/seaborn/distributions.py:2619: FutureWarning: `distplot` is a deprecated function and will be removed in a future version. Please adapt your code to use either `displot` (a figure-level function with similar flexibility) or `histplot` (an axes-level function for histograms).\n",
      "  warnings.warn(msg, FutureWarning)\n"
     ]
    },
    {
     "data": {
      "image/png": "[encoded data removed]",
      "text/plain": [
       "<Figure size 1800x360 with 5 Axes>"
      ]
     },
     "metadata": {
      "needs_background": "light"
     },
     "output_type": "display_data"
    },
    {
     "name": "stdout",
     "output_type": "stream",
     "text": [
      "Descriptive stats for mpqa_positive\n",
      "-----------------------------------\n",
      "                    count      mean       std  min  25%  50%  75%   max\n",
      "Sentiment                                                              \n",
      "Extremely Negative  306.0  1.418301  1.321273  0.0  0.0  1.0  2.0   6.0\n",
      "Extremely Positive  290.0  2.975862  1.590229  0.0  2.0  3.0  4.0  10.0\n",
      "Negative            513.0  1.307992  1.298540  0.0  0.0  1.0  2.0   8.0\n",
      "Neutral             356.0  0.581461  0.956280  0.0  0.0  0.0  1.0   6.0\n",
      "Positive            535.0  1.822430  1.288185  0.0  1.0  2.0  3.0   6.0\n"
     ]
    },
    {
     "name": "stderr",
     "output_type": "stream",
     "text": [
      "/opt/anaconda3/envs/dsfb2env/lib/python3.8/site-packages/seaborn/distributions.py:2619: FutureWarning: `distplot` is a deprecated function and will be removed in a future version. Please adapt your code to use either `displot` (a figure-level function with similar flexibility) or `histplot` (an axes-level function for histograms).\n",
      "  warnings.warn(msg, FutureWarning)\n"
     ]
    },
    {
     "data": {
      "image/png": "[encoded data removed]",
      "text/plain": [
       "<Figure size 1800x360 with 5 Axes>"
      ]
     },
     "metadata": {
      "needs_background": "light"
     },
     "output_type": "display_data"
    },
    {
     "name": "stdout",
     "output_type": "stream",
     "text": [
      "Descriptive stats for mpqa_negative\n",
      "-----------------------------------\n",
      "                    count      mean       std  min  25%  50%  75%  max\n",
      "Sentiment                                                             \n",
      "Extremely Negative  306.0  2.754902  1.551961  0.0  2.0  3.0  4.0  9.0\n",
      "Extremely Positive  290.0  0.893103  1.090516  0.0  0.0  1.0  1.0  5.0\n",
      "Negative            513.0  1.699805  1.262260  0.0  1.0  1.0  2.0  9.0\n",
      "Neutral             356.0  0.522472  0.781512  0.0  0.0  0.0  1.0  4.0\n",
      "Positive            535.0  0.977570  1.036534  0.0  0.0  1.0  2.0  7.0\n"
     ]
    },
    {
     "name": "stderr",
     "output_type": "stream",
     "text": [
      "/opt/anaconda3/envs/dsfb2env/lib/python3.8/site-packages/seaborn/distributions.py:2619: FutureWarning: `distplot` is a deprecated function and will be removed in a future version. Please adapt your code to use either `displot` (a figure-level function with similar flexibility) or `histplot` (an axes-level function for histograms).\n",
      "  warnings.warn(msg, FutureWarning)\n"
     ]
    },
    {
     "data": {
      "image/png": "[encoded data removed]",
      "text/plain": [
       "<Figure size 1800x360 with 5 Axes>"
      ]
     },
     "metadata": {
      "needs_background": "light"
     },
     "output_type": "display_data"
    },
    {
     "name": "stdout",
     "output_type": "stream",
     "text": [
      "Descriptive stats for mpqa_strong_subjectivty\n",
      "---------------------------------------------\n",
      "                    count      mean       std  min  25%  50%  75%   max\n",
      "Sentiment                                                              \n",
      "Extremely Negative  306.0  2.689542  1.793894  0.0  1.0  2.0  4.0  10.0\n",
      "Extremely Positive  290.0  2.186207  1.627983  0.0  1.0  2.0  3.0   9.0\n",
      "Negative            513.0  1.801170  1.445440  0.0  1.0  2.0  3.0   9.0\n",
      "Neutral             356.0  0.609551  0.944558  0.0  0.0  0.0  1.0   5.0\n",
      "Positive            535.0  1.601869  1.350682  0.0  1.0  1.0  2.0   7.0\n"
     ]
    },
    {
     "name": "stderr",
     "output_type": "stream",
     "text": [
      "/opt/anaconda3/envs/dsfb2env/lib/python3.8/site-packages/seaborn/distributions.py:2619: FutureWarning: `distplot` is a deprecated function and will be removed in a future version. Please adapt your code to use either `displot` (a figure-level function with similar flexibility) or `histplot` (an axes-level function for histograms).\n",
      "  warnings.warn(msg, FutureWarning)\n"
     ]
    },
    {
     "data": {
      "image/png": "[encoded data removed]",
      "text/plain": [
       "<Figure size 1800x360 with 5 Axes>"
      ]
     },
     "metadata": {
      "needs_background": "light"
     },
     "output_type": "display_data"
    }
   ],
   "source": [
    "import numpy as np\n",
    "\n",
    "def show_dist(df, col):\n",
    "    print('Descriptive stats for {}'.format(col))\n",
    "    print('-'*(len(col)+22))\n",
    "    print(df.groupby('Sentiment')[col].describe())\n",
    "    bins = np.arange(df[col].min(), df[col].max() + 1)\n",
    "    g = sns.FacetGrid(df, col='Sentiment', height=5, hue='Sentiment', palette=\"PuBuGn_d\")\n",
    "    g = g.map(sns.distplot, col, kde=False, norm_hist=True, bins=bins)\n",
    "    plt.show()\n",
    "\n",
    "df_eda = pd.concat([train,feat_dat],axis=1)\n",
    "\n",
    "for feature in sa_extractor.feature_names:\n",
    "    show_dist(df_eda, feature)"
   ]
  },
  {
   "cell_type": "markdown",
   "id": "b24bfdf2",
   "metadata": {},
   "source": [
    "### First step included extracting lexicon-based features. Some of the lexicon-based features had some level of relation with the sentiments based on the mean values:\n",
    "\n",
    "    • Afinn\n",
    "        o Afinn_positive has quite strong relation with the sentiments “positive” and\n",
    "          “extremely positive\n",
    "        o Afinn_negative has strong relation with the sentiment “extremely negative”\n",
    "    • Nrc\n",
    "        o nrc_negative has quite strong relation with the sentiment “extremely negative”\n",
    "    • Mpqa\n",
    "        o mpqa_positive has quite strong relation with the sentiment “extremely positive”\n",
    "    o mpqa_negative has quite strong relation with the sentiment “extremely negative”\n",
    "    o mpqa_strong_subjectivty has quite strong relations with the sentiments “extremely positive” and “extremely         negative”\n",
    "    \n",
    "Other features did not have significant level of relation with the sentiments. In addition, there are likely to be a lot of sentences that do not contain any lexicon features, since in many cases there were a lot of 0 values."
   ]
  },
  {
   "cell_type": "markdown",
   "id": "f0d17bb6",
   "metadata": {},
   "source": [
    "## Step 3: Cleaning the text\n",
    "\n",
    "It is crucial to clean the text from all the “noise” in order to successfully fit a model to it. By cleaning the text, we ensure that our machine learning system will pick up on the right attributes. Thus, we need to eliminate everything from the text that has adds no value for our analysis.\n",
    "\n",
    "Cleaning the text includes following steps:\n",
    "• lowercasing\n",
    "• removal of punctuations, question and exclamation marks\n",
    "• removal of urls\n",
    "• removal of digits\n",
    "• removal of “stopwords”\n",
    "• applying stemming"
   ]
  },
  {
   "cell_type": "code",
   "execution_count": 14,
   "id": "359121d3",
   "metadata": {},
   "outputs": [
    {
     "name": "stderr",
     "output_type": "stream",
     "text": [
      "[nltk_data] Downloading package stopwords to\n",
      "[nltk_data]     /Users/emmikilpelainen/nltk_data...\n",
      "[nltk_data]   Package stopwords is already up-to-date!\n"
     ]
    }
   ],
   "source": [
    "#Let's clean the text data\n",
    "\n",
    "from sklearn.base import BaseEstimator, TransformerMixin\n",
    "\n",
    "import nltk\n",
    "import re, string, os, emoji\n",
    "\n",
    "from nltk.corpus import stopwords\n",
    "from nltk.stem import PorterStemmer\n",
    "from nltk.tokenize import word_tokenize\n",
    "nltk.download('stopwords')\n",
    "\n",
    "class CleanText(BaseEstimator, TransformerMixin):\n",
    "   \n",
    "    def remove_mentions(self, input_text):\n",
    "        return re.sub(r'@\\w+', '', input_text)\n",
    "    \n",
    "    def remove_urls(self, input_text):\n",
    "        return re.sub(r'http.?://[^\\s]+[\\s]?', '', input_text)\n",
    "    \n",
    "    def emoji_oneword(self, input_text):\n",
    "        # By compressing the underscore, the emoji is kept as one word\n",
    "        return input_text.replace('_','')\n",
    "    \n",
    "    def remove_punctuation(self, input_text):\n",
    "        # Make translation table\n",
    "        punct = string.punctuation\n",
    "        trantab = str.maketrans(punct, len(punct)*' ')  # Every punctuation symbol will be replaced by a space\n",
    "        return input_text.translate(trantab)\n",
    "    \n",
    "    def remove_stopwords(self, input_text):\n",
    "        stopwords_list = stopwords.words('english')\n",
    "        # Some words which might indicate a certain sentiment are kept via a whitelist\n",
    "        whitelist = [\"n't\", \"not\", \"no\"]\n",
    "        words = input_text.split() \n",
    "        clean_words = [word for word in words if (word not in stopwords_list or word in whitelist) and len(word) > 1] \n",
    "        return \" \".join(clean_words) \n",
    "\n",
    "    def remove_digits(self, input_text):\n",
    "        return re.sub(r'\\d+', '', input_text)\n",
    "    \n",
    "    def to_lower(self, input_text):\n",
    "        return input_text.lower()\n",
    "    \n",
    "    def stemming(self, input_text):\n",
    "        porter = PorterStemmer()\n",
    "        words = input_text.split() \n",
    "        stemmed_words = [porter.stem(word) for word in words]\n",
    "        return \" \".join(stemmed_words)\n",
    "    \n",
    "    def fit(self, X, y=None, **fit_params):\n",
    "        return self\n",
    "    \n",
    "    def transform(self, X, **transform_params):\n",
    "        clean_X = X.apply(self.remove_mentions).apply(self.remove_urls).apply(self.emoji_oneword).apply(self.remove_punctuation).apply(self.remove_digits).apply(self.to_lower).apply(self.remove_stopwords).apply(self.stemming)\n",
    "        return clean_X"
   ]
  },
  {
   "cell_type": "code",
   "execution_count": 15,
   "id": "ce4d45d0",
   "metadata": {},
   "outputs": [
    {
     "name": "stdout",
     "output_type": "stream",
     "text": [
      "306     consum shaki ground busi grind covid hear cons...\n",
      "1605    farmer reli farmersâ market direct consum sal...\n",
      "96      biggest supermarket chain unit state employe m...\n",
      "1446    increas onlin shop spread coronaviru covid sar...\n",
      "117     fring idiot like caus price rise amp creat sho...\n",
      "Name: OriginalTweet, dtype: object\n",
      "4 records have no words left after text cleaning\n"
     ]
    }
   ],
   "source": [
    "ct = CleanText()\n",
    "sent_clean = ct.fit_transform(train.OriginalTweet)\n",
    "print(sent_clean.sample(5))\n",
    "empty_clean = sent_clean == ''\n",
    "print('{} records have no words left after text cleaning'.format(sent_clean[empty_clean].count()))\n",
    "sent_clean.loc[empty_clean] = '[no_text]'"
   ]
  },
  {
   "cell_type": "markdown",
   "id": "44284343",
   "metadata": {},
   "source": [
    "## Step 3. Bag-of-Words (BOW) representation of the data"
   ]
  },
  {
   "cell_type": "code",
   "execution_count": 16,
   "id": "cbfc7f7e",
   "metadata": {},
   "outputs": [
    {
     "name": "stderr",
     "output_type": "stream",
     "text": [
      "/opt/anaconda3/envs/dsfb2env/lib/python3.8/site-packages/sklearn/utils/deprecation.py:87: FutureWarning: Function get_feature_names is deprecated; get_feature_names is deprecated in 1.0 and will be removed in 1.2. Please use get_feature_names_out instead.\n",
      "  warnings.warn(msg, category=FutureWarning)\n"
     ]
    },
    {
     "data": {
      "image/png": "[encoded data removed]",
      "text/plain": [
       "<Figure size 864x720 with 1 Axes>"
      ]
     },
     "metadata": {
      "needs_background": "light"
     },
     "output_type": "display_data"
    }
   ],
   "source": [
    "from sklearn.feature_extraction.text import CountVectorizer\n",
    "import collections\n",
    "\n",
    "cv = CountVectorizer()\n",
    "bow = cv.fit_transform(sent_clean)\n",
    "word_freq = dict(zip(cv.get_feature_names(), np.asarray(bow.sum(axis=0)).ravel()))\n",
    "word_counter = collections.Counter(word_freq)\n",
    "word_counter_df = pd.DataFrame(word_counter.most_common(20), columns = ['word', 'freq'])\n",
    "\n",
    "fig, ax = plt.subplots(figsize=(12, 10))\n",
    "bar_freq_word = sns.barplot(x=\"word\", y=\"freq\", data=word_counter_df, palette=\"PuBuGn_d\", ax=ax)\n",
    "plt.show();"
   ]
  },
  {
   "cell_type": "markdown",
   "id": "8e1d02a4",
   "metadata": {},
   "source": [
    "After creating the BOW representation of the data, we can state the words relating to the actual disease are the most commonly used in tweets. In addition, words related to food and groceries are also very common along with words related to panic. The result is reasonable."
   ]
  },
  {
   "cell_type": "markdown",
   "id": "7f4cc6c3",
   "metadata": {},
   "source": [
    "## Step 4. Methods and Results\n",
    "\n",
    "### Methods\n",
    "\n",
    "Two models were considered as a part of training the classifiers:\n",
    "    • Logistic Regression\n",
    "    • Multinomial Naïve Bayes Classifier\n",
    "    \n",
    "To train the models, I’ve used CountVectorizer to convert words to numbers by assigning them an id and counting word frequencies. To mitigate overfitting issues, I’ve used a 5-fold crossvalidation approach to estimate the models.\n",
    "\n",
    "I defined parameter grid settings for both models.\n",
    "\n",
    "Parameters for vectorizers:\n",
    "    • Maximum document frequency (0.25, 0.5, 0.75)\n",
    "    • How many sentences need to contain the words (1 word needs to appear at least in 2 sentences)\n",
    "    • Ngram-range (single words and bi-grams)\n",
    "    \n",
    "Parameters for logistic regression:\n",
    "    • Specify the norm used in penalization (‘l1’, ‘l2’)\n",
    "    • Inverse of regularization strength (0.25, 0.5, 1.0) Parameters for multinomial NB:\n",
    "    • Additive (Laplace/Lidstone) smoothing parameter (0.25, 0.5, 0.75)"
   ]
  },
  {
   "cell_type": "code",
   "execution_count": 17,
   "id": "3224a178",
   "metadata": {},
   "outputs": [
    {
     "data": {
      "text/html": [
       "<div>\n",
       "<style scoped>\n",
       "    .dataframe tbody tr th:only-of-type {\n",
       "        vertical-align: middle;\n",
       "    }\n",
       "\n",
       "    .dataframe tbody tr th {\n",
       "        vertical-align: top;\n",
       "    }\n",
       "\n",
       "    .dataframe thead th {\n",
       "        text-align: right;\n",
       "    }\n",
       "</style>\n",
       "<table border=\"1\" class=\"dataframe\">\n",
       "  <thead>\n",
       "    <tr style=\"text-align: right;\">\n",
       "      <th></th>\n",
       "      <th>word</th>\n",
       "      <th>freq</th>\n",
       "    </tr>\n",
       "  </thead>\n",
       "  <tbody>\n",
       "    <tr>\n",
       "      <th>0</th>\n",
       "      <td>covid</td>\n",
       "      <td>1232</td>\n",
       "    </tr>\n",
       "    <tr>\n",
       "      <th>1</th>\n",
       "      <td>coronaviru</td>\n",
       "      <td>843</td>\n",
       "    </tr>\n",
       "    <tr>\n",
       "      <th>2</th>\n",
       "      <td>store</td>\n",
       "      <td>650</td>\n",
       "    </tr>\n",
       "    <tr>\n",
       "      <th>3</th>\n",
       "      <td>food</td>\n",
       "      <td>570</td>\n",
       "    </tr>\n",
       "    <tr>\n",
       "      <th>4</th>\n",
       "      <td>groceri</td>\n",
       "      <td>456</td>\n",
       "    </tr>\n",
       "    <tr>\n",
       "      <th>5</th>\n",
       "      <td>peopl</td>\n",
       "      <td>386</td>\n",
       "    </tr>\n",
       "    <tr>\n",
       "      <th>6</th>\n",
       "      <td>shop</td>\n",
       "      <td>382</td>\n",
       "    </tr>\n",
       "    <tr>\n",
       "      <th>7</th>\n",
       "      <td>supermarket</td>\n",
       "      <td>346</td>\n",
       "    </tr>\n",
       "    <tr>\n",
       "      <th>8</th>\n",
       "      <td>panic</td>\n",
       "      <td>288</td>\n",
       "    </tr>\n",
       "    <tr>\n",
       "      <th>9</th>\n",
       "      <td>buy</td>\n",
       "      <td>285</td>\n",
       "    </tr>\n",
       "    <tr>\n",
       "      <th>10</th>\n",
       "      <td>amp</td>\n",
       "      <td>279</td>\n",
       "    </tr>\n",
       "    <tr>\n",
       "      <th>11</th>\n",
       "      <td>not</td>\n",
       "      <td>269</td>\n",
       "    </tr>\n",
       "    <tr>\n",
       "      <th>12</th>\n",
       "      <td>onlin</td>\n",
       "      <td>263</td>\n",
       "    </tr>\n",
       "    <tr>\n",
       "      <th>13</th>\n",
       "      <td>go</td>\n",
       "      <td>245</td>\n",
       "    </tr>\n",
       "    <tr>\n",
       "      <th>14</th>\n",
       "      <td>need</td>\n",
       "      <td>243</td>\n",
       "    </tr>\n",
       "    <tr>\n",
       "      <th>15</th>\n",
       "      <td>consum</td>\n",
       "      <td>242</td>\n",
       "    </tr>\n",
       "    <tr>\n",
       "      <th>16</th>\n",
       "      <td>stock</td>\n",
       "      <td>222</td>\n",
       "    </tr>\n",
       "    <tr>\n",
       "      <th>17</th>\n",
       "      <td>no</td>\n",
       "      <td>221</td>\n",
       "    </tr>\n",
       "    <tr>\n",
       "      <th>18</th>\n",
       "      <td>get</td>\n",
       "      <td>205</td>\n",
       "    </tr>\n",
       "    <tr>\n",
       "      <th>19</th>\n",
       "      <td>retail</td>\n",
       "      <td>198</td>\n",
       "    </tr>\n",
       "  </tbody>\n",
       "</table>\n",
       "</div>"
      ],
      "text/plain": [
       "           word  freq\n",
       "0         covid  1232\n",
       "1    coronaviru   843\n",
       "2         store   650\n",
       "3          food   570\n",
       "4       groceri   456\n",
       "5         peopl   386\n",
       "6          shop   382\n",
       "7   supermarket   346\n",
       "8         panic   288\n",
       "9           buy   285\n",
       "10          amp   279\n",
       "11          not   269\n",
       "12        onlin   263\n",
       "13           go   245\n",
       "14         need   243\n",
       "15       consum   242\n",
       "16        stock   222\n",
       "17           no   221\n",
       "18          get   205\n",
       "19       retail   198"
      ]
     },
     "execution_count": 17,
     "metadata": {},
     "output_type": "execute_result"
    }
   ],
   "source": [
    "word_counter_df"
   ]
  },
  {
   "cell_type": "code",
   "execution_count": 18,
   "id": "7ad78795",
   "metadata": {},
   "outputs": [
    {
     "data": {
      "text/plain": [
       "['UserName',\n",
       " 'ScreenName',\n",
       " 'Location',\n",
       " 'TweetAt',\n",
       " 'OriginalTweet',\n",
       " 'Sentiment',\n",
       " 'afinn_positive',\n",
       " 'afinn_negative',\n",
       " 'nrc_positive',\n",
       " 'nrc_negative',\n",
       " 'nrc_anger',\n",
       " 'nrc_anticipation',\n",
       " 'nrc_disgust',\n",
       " 'nrc_fear',\n",
       " 'nrc_joy',\n",
       " 'nrc_sadness',\n",
       " 'nrc_surprise',\n",
       " 'nrc_trust',\n",
       " 'mpqa_positive',\n",
       " 'mpqa_negative',\n",
       " 'mpqa_strong_subjectivty',\n",
       " 'clean_text']"
      ]
     },
     "execution_count": 18,
     "metadata": {},
     "output_type": "execute_result"
    }
   ],
   "source": [
    "df_model = df_eda\n",
    "df_model['clean_text'] = sent_clean\n",
    "df_model.columns.tolist()"
   ]
  },
  {
   "cell_type": "code",
   "execution_count": 19,
   "id": "30be2fef",
   "metadata": {},
   "outputs": [],
   "source": [
    "class ColumnExtractor(TransformerMixin, BaseEstimator):\n",
    "    def __init__(self, cols):\n",
    "        self.cols = cols\n",
    "\n",
    "    def transform(self, X, **transform_params):\n",
    "        return X[self.cols]\n",
    "\n",
    "    def fit(self, X, y=None, **fit_params):\n",
    "        return self"
   ]
  },
  {
   "cell_type": "code",
   "execution_count": 20,
   "id": "8f56c4e4",
   "metadata": {},
   "outputs": [],
   "source": [
    "from sklearn.model_selection import train_test_split\n",
    "X_train, X_test, y_train, y_test = train_test_split(df_model.drop('Sentiment', axis=1), df_model.Sentiment, test_size=0.1, random_state=30)"
   ]
  },
  {
   "cell_type": "code",
   "execution_count": 21,
   "id": "7dce28d1",
   "metadata": {},
   "outputs": [
    {
     "data": {
      "text/plain": [
       "UserName                     int64\n",
       "ScreenName                   int64\n",
       "Location                    object\n",
       "TweetAt                     object\n",
       "OriginalTweet               object\n",
       "Sentiment                   object\n",
       "afinn_positive             float64\n",
       "afinn_negative             float64\n",
       "nrc_positive               float64\n",
       "nrc_negative               float64\n",
       "nrc_anger                  float64\n",
       "nrc_anticipation           float64\n",
       "nrc_disgust                float64\n",
       "nrc_fear                   float64\n",
       "nrc_joy                    float64\n",
       "nrc_sadness                float64\n",
       "nrc_surprise               float64\n",
       "nrc_trust                  float64\n",
       "mpqa_positive              float64\n",
       "mpqa_negative              float64\n",
       "mpqa_strong_subjectivty    float64\n",
       "clean_text                  object\n",
       "dtype: object"
      ]
     },
     "execution_count": 21,
     "metadata": {},
     "output_type": "execute_result"
    }
   ],
   "source": [
    "df_model.dtypes"
   ]
  },
  {
   "cell_type": "code",
   "execution_count": 22,
   "id": "507fa28e",
   "metadata": {},
   "outputs": [],
   "source": [
    "from sklearn.pipeline import Pipeline, FeatureUnion\n",
    "from sklearn.metrics import classification_report\n",
    "\n",
    "from sklearn.naive_bayes import MultinomialNB\n",
    "from sklearn.linear_model import LogisticRegression\n",
    "\n",
    "mnb = MultinomialNB()\n",
    "logreg = LogisticRegression(max_iter=10000, solver='saga')\n",
    "countvect = CountVectorizer()"
   ]
  },
  {
   "cell_type": "code",
   "execution_count": 23,
   "id": "82344769",
   "metadata": {},
   "outputs": [],
   "source": [
    "#Defining grid-search routine to perform the cross-validation\n",
    "\n",
    "from pprint import pprint\n",
    "from time import time\n",
    "\n",
    "from sklearn.model_selection import GridSearchCV\n",
    "from sklearn.pipeline import Pipeline, FeatureUnion\n",
    "from sklearn.metrics import classification_report\n",
    "\n",
    "from sklearn.naive_bayes import MultinomialNB\n",
    "from sklearn.linear_model import LogisticRegression\n",
    "\n",
    "def grid_vect(clf, parameters_clf, X_train, X_test, y_train, y_test, parameters_text=None, vect=None):\n",
    "    \n",
    "    textcountscols = ['afinn_positive', 'afinn_negative', 'nrc_positive', 'nrc_negative', 'nrc_anger', 'nrc_anticipation', 'nrc_disgust',\n",
    "                     'nrc_fear', 'nrc_joy', 'nrc_sadness', 'nrc_surprise', 'nrc_trust', 'mpqa_positive', 'mpqa_negative', 'mpqa_strong_subjectivty']\n",
    "    \n",
    "    features = FeatureUnion([('textcounts', ColumnExtractor(cols=textcountscols))\n",
    "                                 , ('pipe', Pipeline([('cleantext', ColumnExtractor(cols='clean_text')), ('vect', vect)]))]\n",
    "                                , n_jobs=-1)\n",
    "  \n",
    "    pipeline = Pipeline([\n",
    "        ('features', features)\n",
    "        , ('clf', clf)\n",
    "    ])\n",
    "    \n",
    "    # Join the parameters dictionaries together\n",
    "    parameters = dict()\n",
    "    if parameters_text:\n",
    "        parameters.update(parameters_text)\n",
    "    parameters.update(parameters_clf)\n",
    "\n",
    "    # Make sure you have scikit-learn version 0.19 or higher to use multiple scoring metrics\n",
    "    grid_search = GridSearchCV(pipeline, parameters, n_jobs=-1, verbose=1, cv=5)\n",
    "    \n",
    "    print(\"Performing grid search...\")\n",
    "    print(\"pipeline:\", [name for name, _ in pipeline.steps])\n",
    "    print(\"parameters:\")\n",
    "    pprint(parameters)\n",
    "\n",
    "    t0 = time()\n",
    "    grid_search.fit(X_train, y_train)\n",
    "    print(\"done in %0.3fs\" % (time() - t0))\n",
    "    print()\n",
    "\n",
    "    print(\"Best CV score: %0.3f\" % grid_search.best_score_)\n",
    "    print(\"Best parameters set:\")\n",
    "    best_parameters = grid_search.best_estimator_.get_params()\n",
    "    for param_name in sorted(parameters.keys()):\n",
    "        print(\"\\t%s: %r\" % (param_name, best_parameters[param_name]))\n",
    "        \n",
    "    print(\"Test score with best_estimator_: %0.3f\" % grid_search.best_estimator_.score(X_test, y_test))\n",
    "    print(\"\\n\")\n",
    "    print(\"Classification Report Test Data\")\n",
    "    print(classification_report(y_test, grid_search.best_estimator_.predict(X_test)))\n",
    "                        \n",
    "    return grid_search"
   ]
  },
  {
   "cell_type": "code",
   "execution_count": 24,
   "id": "9c347e62",
   "metadata": {},
   "outputs": [],
   "source": [
    "# Parameter grid settings for the vectorizers (Count and TFIDF)\n",
    "parameters_vect = {\n",
    "    'features__pipe__vect__max_df': (0.25, 0.5, 0.75),\n",
    "    'features__pipe__vect__ngram_range': ((1, 1), (1, 2)),\n",
    "    'features__pipe__vect__min_df': (1,2)\n",
    "}\n",
    "\n",
    "# Parameter grid settings for LogisticRegression\n",
    "parameters_logreg = {\n",
    "    'clf__C': (0.25, 0.5, 1.0),\n",
    "    'clf__penalty': ('l1', 'l2')\n",
    "}\n",
    "\n",
    "# Parameter grid settings for MultinomialNB\n",
    "parameters_mnb = {\n",
    "    'clf__alpha': (0.25, 0.5, 0.75)\n",
    "}\n",
    "\n"
   ]
  },
  {
   "cell_type": "code",
   "execution_count": 25,
   "id": "3bbc5660",
   "metadata": {},
   "outputs": [
    {
     "name": "stdout",
     "output_type": "stream",
     "text": [
      "Performing grid search...\n",
      "pipeline: ['features', 'clf']\n",
      "parameters:\n",
      "{'clf__C': (0.25, 0.5, 1.0),\n",
      " 'clf__penalty': ('l1', 'l2'),\n",
      " 'features__pipe__vect__max_df': (0.25, 0.5, 0.75),\n",
      " 'features__pipe__vect__min_df': (1, 2),\n",
      " 'features__pipe__vect__ngram_range': ((1, 1), (1, 2))}\n",
      "Fitting 5 folds for each of 72 candidates, totalling 360 fits\n",
      "done in 4099.921s\n",
      "\n",
      "Best CV score: 0.643\n",
      "Best parameters set:\n",
      "\tclf__C: 0.25\n",
      "\tclf__penalty: 'l1'\n",
      "\tfeatures__pipe__vect__max_df: 0.25\n",
      "\tfeatures__pipe__vect__min_df: 1\n",
      "\tfeatures__pipe__vect__ngram_range: (1, 2)\n",
      "Test score with best_estimator_: 0.625\n",
      "\n",
      "\n",
      "Classification Report Test Data\n",
      "                    precision    recall  f1-score   support\n",
      "\n",
      "Extremely Negative       0.78      0.68      0.72        31\n",
      "Extremely Positive       0.86      0.58      0.69        33\n",
      "          Negative       0.55      0.46      0.50        50\n",
      "           Neutral       0.58      0.91      0.71        35\n",
      "          Positive       0.56      0.59      0.57        51\n",
      "\n",
      "          accuracy                           0.62       200\n",
      "         macro avg       0.67      0.64      0.64       200\n",
      "      weighted avg       0.64      0.62      0.62       200\n",
      "\n"
     ]
    }
   ],
   "source": [
    "# LogisticRegression\n",
    "best_logreg_countvect = grid_vect(logreg, parameters_logreg, X_train, X_test, y_train, y_test, parameters_text=parameters_vect, vect=countvect)\n",
    "\n"
   ]
  },
  {
   "cell_type": "code",
   "execution_count": 27,
   "id": "d7d28e74",
   "metadata": {},
   "outputs": [
    {
     "data": {
      "text/html": [
       "<div>\n",
       "<style scoped>\n",
       "    .dataframe tbody tr th:only-of-type {\n",
       "        vertical-align: middle;\n",
       "    }\n",
       "\n",
       "    .dataframe tbody tr th {\n",
       "        vertical-align: top;\n",
       "    }\n",
       "\n",
       "    .dataframe thead th {\n",
       "        text-align: right;\n",
       "    }\n",
       "</style>\n",
       "<table border=\"1\" class=\"dataframe\">\n",
       "  <thead>\n",
       "    <tr style=\"text-align: right;\">\n",
       "      <th></th>\n",
       "      <th>OriginalTweet</th>\n",
       "      <th>Sentiment</th>\n",
       "      <th>pred</th>\n",
       "    </tr>\n",
       "  </thead>\n",
       "  <tbody>\n",
       "    <tr>\n",
       "      <th>1856</th>\n",
       "      <td>Guess?, Inc. Provides COVID-19 Business Update...</td>\n",
       "      <td>Positive</td>\n",
       "      <td>Positive</td>\n",
       "    </tr>\n",
       "    <tr>\n",
       "      <th>364</th>\n",
       "      <td>Economic Perspectives - Global Inflation Persp...</td>\n",
       "      <td>Negative</td>\n",
       "      <td>Positive</td>\n",
       "    </tr>\n",
       "    <tr>\n",
       "      <th>1948</th>\n",
       "      <td>@NewYorker My friends in #Strasbourg #france s...</td>\n",
       "      <td>Positive</td>\n",
       "      <td>Positive</td>\n",
       "    </tr>\n",
       "    <tr>\n",
       "      <th>1458</th>\n",
       "      <td>9 Online Grocery Shopping Stores In Klang Vall...</td>\n",
       "      <td>Neutral</td>\n",
       "      <td>Neutral</td>\n",
       "    </tr>\n",
       "    <tr>\n",
       "      <th>609</th>\n",
       "      <td>@DrAmalinaBakri Saw someone shared on what kin...</td>\n",
       "      <td>Positive</td>\n",
       "      <td>Positive</td>\n",
       "    </tr>\n",
       "    <tr>\n",
       "      <th>...</th>\n",
       "      <td>...</td>\n",
       "      <td>...</td>\n",
       "      <td>...</td>\n",
       "    </tr>\n",
       "    <tr>\n",
       "      <th>1992</th>\n",
       "      <td>@N_Mazibuk0 Let's all be accurate, there's NO ...</td>\n",
       "      <td>Extremely Negative</td>\n",
       "      <td>Extremely Negative</td>\n",
       "    </tr>\n",
       "    <tr>\n",
       "      <th>1942</th>\n",
       "      <td>I donÂt want to work at a grocery store anymo...</td>\n",
       "      <td>Positive</td>\n",
       "      <td>Positive</td>\n",
       "    </tr>\n",
       "    <tr>\n",
       "      <th>470</th>\n",
       "      <td>Oh my God, even after coming up with a list of...</td>\n",
       "      <td>Negative</td>\n",
       "      <td>Extremely Negative</td>\n",
       "    </tr>\n",
       "    <tr>\n",
       "      <th>314</th>\n",
       "      <td>Shit moms.. I just got done telling my kids ho...</td>\n",
       "      <td>Positive</td>\n",
       "      <td>Positive</td>\n",
       "    </tr>\n",
       "    <tr>\n",
       "      <th>152</th>\n",
       "      <td>I would list a plethora of ÂTo DoÂsÂ, but u...</td>\n",
       "      <td>Positive</td>\n",
       "      <td>Positive</td>\n",
       "    </tr>\n",
       "  </tbody>\n",
       "</table>\n",
       "<p>200 rows × 3 columns</p>\n",
       "</div>"
      ],
      "text/plain": [
       "                                          OriginalTweet           Sentiment  \\\n",
       "1856  Guess?, Inc. Provides COVID-19 Business Update...            Positive   \n",
       "364   Economic Perspectives - Global Inflation Persp...            Negative   \n",
       "1948  @NewYorker My friends in #Strasbourg #france s...            Positive   \n",
       "1458  9 Online Grocery Shopping Stores In Klang Vall...             Neutral   \n",
       "609   @DrAmalinaBakri Saw someone shared on what kin...            Positive   \n",
       "...                                                 ...                 ...   \n",
       "1992  @N_Mazibuk0 Let's all be accurate, there's NO ...  Extremely Negative   \n",
       "1942  I donÂt want to work at a grocery store anymo...            Positive   \n",
       "470   Oh my God, even after coming up with a list of...            Negative   \n",
       "314   Shit moms.. I just got done telling my kids ho...            Positive   \n",
       "152   I would list a plethora of ÂTo DoÂsÂ, but u...            Positive   \n",
       "\n",
       "                    pred  \n",
       "1856            Positive  \n",
       "364             Positive  \n",
       "1948            Positive  \n",
       "1458             Neutral  \n",
       "609             Positive  \n",
       "...                  ...  \n",
       "1992  Extremely Negative  \n",
       "1942            Positive  \n",
       "470   Extremely Negative  \n",
       "314             Positive  \n",
       "152             Positive  \n",
       "\n",
       "[200 rows x 3 columns]"
      ]
     },
     "execution_count": 27,
     "metadata": {},
     "output_type": "execute_result"
    }
   ],
   "source": [
    "logreg_test_preds = X_test.loc[:, ['OriginalTweet']]\n",
    "logreg_test_preds['Sentiment']=y_test\n",
    "logreg_test_preds['pred']=best_logreg_countvect.predict(X_test)\n",
    "logreg_test_preds"
   ]
  },
  {
   "cell_type": "code",
   "execution_count": 28,
   "id": "eda78eeb",
   "metadata": {},
   "outputs": [
    {
     "name": "stdout",
     "output_type": "stream",
     "text": [
      "Performing grid search...\n",
      "pipeline: ['features', 'clf']\n",
      "parameters:\n",
      "{'clf__alpha': (0.25, 0.5, 0.75),\n",
      " 'features__pipe__vect__max_df': (0.25, 0.5, 0.75),\n",
      " 'features__pipe__vect__min_df': (1, 2),\n",
      " 'features__pipe__vect__ngram_range': ((1, 1), (1, 2))}\n",
      "Fitting 5 folds for each of 36 candidates, totalling 180 fits\n",
      "done in 24.055s\n",
      "\n",
      "Best CV score: 0.529\n",
      "Best parameters set:\n",
      "\tclf__alpha: 0.75\n",
      "\tfeatures__pipe__vect__max_df: 0.75\n",
      "\tfeatures__pipe__vect__min_df: 2\n",
      "\tfeatures__pipe__vect__ngram_range: (1, 1)\n",
      "Test score with best_estimator_: 0.570\n",
      "\n",
      "\n",
      "Classification Report Test Data\n",
      "                    precision    recall  f1-score   support\n",
      "\n",
      "Extremely Negative       0.56      0.65      0.60        31\n",
      "Extremely Positive       0.59      0.52      0.55        33\n",
      "          Negative       0.50      0.48      0.49        50\n",
      "           Neutral       0.75      0.69      0.72        35\n",
      "          Positive       0.53      0.57      0.55        51\n",
      "\n",
      "          accuracy                           0.57       200\n",
      "         macro avg       0.58      0.58      0.58       200\n",
      "      weighted avg       0.57      0.57      0.57       200\n",
      "\n"
     ]
    }
   ],
   "source": [
    "# Estimate Naive Bayes model\n",
    "\n",
    "mnb = MultinomialNB()\n",
    "countvect = CountVectorizer()\n",
    "\n",
    "# MultinomialNB\n",
    "best_mnb_countvect = grid_vect(mnb, parameters_mnb, X_train, X_test, y_train, y_test, parameters_text=parameters_vect, vect=countvect)"
   ]
  },
  {
   "cell_type": "code",
   "execution_count": 30,
   "id": "61fdb6b2",
   "metadata": {},
   "outputs": [
    {
     "data": {
      "text/html": [
       "<div>\n",
       "<style scoped>\n",
       "    .dataframe tbody tr th:only-of-type {\n",
       "        vertical-align: middle;\n",
       "    }\n",
       "\n",
       "    .dataframe tbody tr th {\n",
       "        vertical-align: top;\n",
       "    }\n",
       "\n",
       "    .dataframe thead th {\n",
       "        text-align: right;\n",
       "    }\n",
       "</style>\n",
       "<table border=\"1\" class=\"dataframe\">\n",
       "  <thead>\n",
       "    <tr style=\"text-align: right;\">\n",
       "      <th></th>\n",
       "      <th>OriginalTweet</th>\n",
       "      <th>Sentiment</th>\n",
       "      <th>pred</th>\n",
       "    </tr>\n",
       "  </thead>\n",
       "  <tbody>\n",
       "    <tr>\n",
       "      <th>1856</th>\n",
       "      <td>Guess?, Inc. Provides COVID-19 Business Update...</td>\n",
       "      <td>Positive</td>\n",
       "      <td>Neutral</td>\n",
       "    </tr>\n",
       "    <tr>\n",
       "      <th>364</th>\n",
       "      <td>Economic Perspectives - Global Inflation Persp...</td>\n",
       "      <td>Negative</td>\n",
       "      <td>Extremely Negative</td>\n",
       "    </tr>\n",
       "    <tr>\n",
       "      <th>1948</th>\n",
       "      <td>@NewYorker My friends in #Strasbourg #france s...</td>\n",
       "      <td>Positive</td>\n",
       "      <td>Positive</td>\n",
       "    </tr>\n",
       "    <tr>\n",
       "      <th>1458</th>\n",
       "      <td>9 Online Grocery Shopping Stores In Klang Vall...</td>\n",
       "      <td>Neutral</td>\n",
       "      <td>Neutral</td>\n",
       "    </tr>\n",
       "    <tr>\n",
       "      <th>609</th>\n",
       "      <td>@DrAmalinaBakri Saw someone shared on what kin...</td>\n",
       "      <td>Positive</td>\n",
       "      <td>Positive</td>\n",
       "    </tr>\n",
       "    <tr>\n",
       "      <th>...</th>\n",
       "      <td>...</td>\n",
       "      <td>...</td>\n",
       "      <td>...</td>\n",
       "    </tr>\n",
       "    <tr>\n",
       "      <th>1992</th>\n",
       "      <td>@N_Mazibuk0 Let's all be accurate, there's NO ...</td>\n",
       "      <td>Extremely Negative</td>\n",
       "      <td>Extremely Negative</td>\n",
       "    </tr>\n",
       "    <tr>\n",
       "      <th>1942</th>\n",
       "      <td>I donÂt want to work at a grocery store anymo...</td>\n",
       "      <td>Positive</td>\n",
       "      <td>Positive</td>\n",
       "    </tr>\n",
       "    <tr>\n",
       "      <th>470</th>\n",
       "      <td>Oh my God, even after coming up with a list of...</td>\n",
       "      <td>Negative</td>\n",
       "      <td>Extremely Negative</td>\n",
       "    </tr>\n",
       "    <tr>\n",
       "      <th>314</th>\n",
       "      <td>Shit moms.. I just got done telling my kids ho...</td>\n",
       "      <td>Positive</td>\n",
       "      <td>Negative</td>\n",
       "    </tr>\n",
       "    <tr>\n",
       "      <th>152</th>\n",
       "      <td>I would list a plethora of ÂTo DoÂsÂ, but u...</td>\n",
       "      <td>Positive</td>\n",
       "      <td>Positive</td>\n",
       "    </tr>\n",
       "  </tbody>\n",
       "</table>\n",
       "<p>200 rows × 3 columns</p>\n",
       "</div>"
      ],
      "text/plain": [
       "                                          OriginalTweet           Sentiment  \\\n",
       "1856  Guess?, Inc. Provides COVID-19 Business Update...            Positive   \n",
       "364   Economic Perspectives - Global Inflation Persp...            Negative   \n",
       "1948  @NewYorker My friends in #Strasbourg #france s...            Positive   \n",
       "1458  9 Online Grocery Shopping Stores In Klang Vall...             Neutral   \n",
       "609   @DrAmalinaBakri Saw someone shared on what kin...            Positive   \n",
       "...                                                 ...                 ...   \n",
       "1992  @N_Mazibuk0 Let's all be accurate, there's NO ...  Extremely Negative   \n",
       "1942  I donÂt want to work at a grocery store anymo...            Positive   \n",
       "470   Oh my God, even after coming up with a list of...            Negative   \n",
       "314   Shit moms.. I just got done telling my kids ho...            Positive   \n",
       "152   I would list a plethora of ÂTo DoÂsÂ, but u...            Positive   \n",
       "\n",
       "                    pred  \n",
       "1856             Neutral  \n",
       "364   Extremely Negative  \n",
       "1948            Positive  \n",
       "1458             Neutral  \n",
       "609             Positive  \n",
       "...                  ...  \n",
       "1992  Extremely Negative  \n",
       "1942            Positive  \n",
       "470   Extremely Negative  \n",
       "314             Negative  \n",
       "152             Positive  \n",
       "\n",
       "[200 rows x 3 columns]"
      ]
     },
     "execution_count": 30,
     "metadata": {},
     "output_type": "execute_result"
    }
   ],
   "source": [
    "mnb_test_preds = X_test.loc[:, ['OriginalTweet']]\n",
    "mnb_test_preds['Sentiment']=y_test\n",
    "mnb_test_preds['pred']=best_mnb_countvect.predict(X_test)\n",
    "mnb_test_preds"
   ]
  },
  {
   "cell_type": "markdown",
   "id": "509b39e5",
   "metadata": {},
   "source": [
    "### Results\n",
    "\n",
    "After training the models we can state that based on the statistics Logistic Regression performed better with the best CV score of 0.643 and model accuracy f1-score of 0.62. Overall, both models performed quite poorly."
   ]
  },
  {
   "cell_type": "code",
   "execution_count": null,
   "id": "1fe546b8",
   "metadata": {},
   "outputs": [],
   "source": []
  }
 ],
 "metadata": {
  "kernelspec": {
   "display_name": "Python [conda env:dsfb2env] *",
   "language": "python",
   "name": "conda-env-dsfb2env-py"
  },
  "language_info": {
   "codemirror_mode": {
    "name": "ipython",
    "version": 3
   },
   "file_extension": ".py",
   "mimetype": "text/x-python",
   "name": "python",
   "nbconvert_exporter": "python",
   "pygments_lexer": "ipython3",
   "version": "3.8.12"
  }
 },
 "nbformat": 4,
 "nbformat_minor": 5
}
